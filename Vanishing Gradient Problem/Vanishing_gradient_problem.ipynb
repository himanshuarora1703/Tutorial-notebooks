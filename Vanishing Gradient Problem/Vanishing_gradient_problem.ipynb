{
  "nbformat": 4,
  "nbformat_minor": 0,
  "metadata": {
    "colab": {
      "provenance": [],
      "authorship_tag": "ABX9TyMQK8OZzo3qInvto+MKldLk",
      "include_colab_link": true
    },
    "kernelspec": {
      "name": "python3",
      "display_name": "Python 3"
    },
    "language_info": {
      "name": "python"
    }
  },
  "cells": [
    {
      "cell_type": "markdown",
      "metadata": {
        "id": "view-in-github",
        "colab_type": "text"
      },
      "source": [
        "<a href=\"https://colab.research.google.com/github/himanshuarora1703/Tutorial-notebooks/blob/main/Vanishing%20Gradient%20Problem/Vanishing_gradient_problem.ipynb\" target=\"_parent\"><img src=\"https://colab.research.google.com/assets/colab-badge.svg\" alt=\"Open In Colab\"/></a>"
      ]
    },
    {
      "cell_type": "code",
      "execution_count": 1,
      "metadata": {
        "id": "1Bo06FtnR26R"
      },
      "outputs": [],
      "source": [
        "import pandas as pd\n",
        "import numpy as np\n",
        "import matplotlib.pyplot as plt\n",
        "import tensorflow as tf\n",
        "from tensorflow import keras\n",
        "from keras.layers import Dense\n",
        "from keras.models import Sequential\n",
        "from sklearn.datasets import make_moons"
      ]
    },
    {
      "cell_type": "code",
      "source": [
        "X,y = make_moons(n_samples=500,noise=0.02,random_state=20)"
      ],
      "metadata": {
        "id": "Z26W8e3mSdRJ"
      },
      "execution_count": 6,
      "outputs": []
    },
    {
      "cell_type": "code",
      "source": [
        "y[0:5]"
      ],
      "metadata": {
        "colab": {
          "base_uri": "https://localhost:8080/"
        },
        "id": "beYZNP8LS82z",
        "outputId": "0061ab09-cad0-4c88-bb61-63aac35c9c1f"
      },
      "execution_count": 8,
      "outputs": [
        {
          "output_type": "execute_result",
          "data": {
            "text/plain": [
              "array([1, 0, 0, 1, 1])"
            ]
          },
          "metadata": {},
          "execution_count": 8
        }
      ]
    },
    {
      "cell_type": "code",
      "source": [
        "# plot the data\n",
        "\n",
        "plt.scatter(X[:,0],X[:,1],c=y)"
      ],
      "metadata": {
        "colab": {
          "base_uri": "https://localhost:8080/",
          "height": 283
        },
        "id": "O7-n53PuSmrn",
        "outputId": "34a41e55-285d-4b74-fc6a-13df51bacbd0"
      },
      "execution_count": 10,
      "outputs": [
        {
          "output_type": "execute_result",
          "data": {
            "text/plain": [
              "<matplotlib.collections.PathCollection at 0x7f8a2e77a4c0>"
            ]
          },
          "metadata": {},
          "execution_count": 10
        },
        {
          "output_type": "display_data",
          "data": {
            "text/plain": [
              "<Figure size 432x288 with 1 Axes>"
            ],
            "image/png": "[encoded data removed]"
          },
          "metadata": {
            "needs_background": "light"
          }
        }
      ]
    },
    {
      "cell_type": "code",
      "source": [
        "from sklearn.model_selection import train_test_split\n",
        "\n",
        "X_train,X_test,y_train,y_test = train_test_split(X,y,test_size=0.2)"
      ],
      "metadata": {
        "id": "731te4hZTEaV"
      },
      "execution_count": 11,
      "outputs": []
    },
    {
      "cell_type": "code",
      "source": [
        "# build the model\n",
        "\n",
        "model = Sequential()\n",
        "model.add(Dense(20,activation='sigmoid',input_dim=2))\n",
        "model.add(Dense(20,activation='sigmoid'))\n",
        "model.add(Dense(20,activation='sigmoid'))\n",
        "model.add(Dense(20,activation='sigmoid'))\n",
        "model.add(Dense(20,activation='sigmoid'))\n",
        "model.add(Dense(20,activation='sigmoid'))\n",
        "model.add(Dense(20,activation='sigmoid'))\n",
        "model.add(Dense(20,activation='sigmoid'))\n",
        "model.add(Dense(20,activation='sigmoid'))\n",
        "model.add(Dense(20,activation='sigmoid'))\n",
        "model.add(Dense(20,activation='sigmoid'))\n",
        "model.add(Dense(20,activation='sigmoid'))\n",
        "model.add(Dense(20,activation='sigmoid'))\n",
        "model.add(Dense(20,activation='sigmoid'))\n",
        "model.add(Dense(20,activation='sigmoid'))\n",
        "model.add(Dense(1,activation='sigmoid'))\n",
        "\n",
        "model.compile(loss='binary_crossentropy',metrics=['accuracy'])\n",
        "\n",
        "model.summary()"
      ],
      "metadata": {
        "colab": {
          "base_uri": "https://localhost:8080/"
        },
        "id": "UEN1Qq7mTawc",
        "outputId": "52ef90cf-16d2-4ff3-e033-d6b3e8f0e578"
      },
      "execution_count": 12,
      "outputs": [
        {
          "output_type": "stream",
          "name": "stdout",
          "text": [
            "Model: \"sequential\"\n",
            "_________________________________________________________________\n",
            " Layer (type)                Output Shape              Param #   \n",
            "=================================================================\n",
            " dense (Dense)               (None, 20)                60        \n",
            "                                                                 \n",
            " dense_1 (Dense)             (None, 20)                420       \n",
            "                                                                 \n",
            " dense_2 (Dense)             (None, 20)                420       \n",
            "                                                                 \n",
            " dense_3 (Dense)             (None, 20)                420       \n",
            "                                                                 \n",
            " dense_4 (Dense)             (None, 20)                420       \n",
            "                                                                 \n",
            " dense_5 (Dense)             (None, 20)                420       \n",
            "                                                                 \n",
            " dense_6 (Dense)             (None, 20)                420       \n",
            "                                                                 \n",
            " dense_7 (Dense)             (None, 20)                420       \n",
            "                                                                 \n",
            " dense_8 (Dense)             (None, 20)                420       \n",
            "                                                                 \n",
            " dense_9 (Dense)             (None, 20)                420       \n",
            "                                                                 \n",
            " dense_10 (Dense)            (None, 20)                420       \n",
            "                                                                 \n",
            " dense_11 (Dense)            (None, 20)                420       \n",
            "                                                                 \n",
            " dense_12 (Dense)            (None, 20)                420       \n",
            "                                                                 \n",
            " dense_13 (Dense)            (None, 20)                420       \n",
            "                                                                 \n",
            " dense_14 (Dense)            (None, 20)                420       \n",
            "                                                                 \n",
            " dense_15 (Dense)            (None, 1)                 21        \n",
            "                                                                 \n",
            "=================================================================\n",
            "Total params: 5,961\n",
            "Trainable params: 5,961\n",
            "Non-trainable params: 0\n",
            "_________________________________________________________________\n"
          ]
        }
      ]
    },
    {
      "cell_type": "code",
      "source": [
        "old_weights = model.get_weights()[0]\n",
        "old_weights"
      ],
      "metadata": {
        "colab": {
          "base_uri": "https://localhost:8080/"
        },
        "id": "GrpaQUU1UspF",
        "outputId": "5fe2bb7c-5afa-44b9-83ba-86e5c8a522e4"
      },
      "execution_count": 15,
      "outputs": [
        {
          "output_type": "execute_result",
          "data": {
            "text/plain": [
              "array([[-0.41213295,  0.41856492,  0.2492091 ,  0.18031245,  0.16222823,\n",
              "        -0.46181172,  0.16094291,  0.50307256,  0.45608908, -0.49770123,\n",
              "        -0.31076983, -0.11584637,  0.19419271, -0.4835112 ,  0.05053151,\n",
              "         0.3319612 , -0.05810162,  0.15801346, -0.06484222,  0.06068659],\n",
              "       [ 0.03134912,  0.03430063, -0.0269939 ,  0.3152451 , -0.43069816,\n",
              "         0.42921048, -0.22269055, -0.14581159,  0.31352073, -0.30686158,\n",
              "        -0.39391065,  0.03971422,  0.47888833,  0.39253247, -0.09321979,\n",
              "         0.2407723 , -0.08523148,  0.29288995,  0.25418627, -0.2976339 ]],\n",
              "      dtype=float32)"
            ]
          },
          "metadata": {},
          "execution_count": 15
        }
      ]
    },
    {
      "cell_type": "code",
      "source": [
        "# fit the model\n",
        "\n",
        "history = model.fit(X_train,y_train,epochs=200)"
      ],
      "metadata": {
        "colab": {
          "base_uri": "https://localhost:8080/"
        },
        "id": "3TWXyAoJUYWT",
        "outputId": "af250656-7f57-42f7-a13e-5e8bec58bd47"
      },
      "execution_count": 16,
      "outputs": [
        {
          "output_type": "stream",
          "name": "stdout",
          "text": [
            "Epoch 1/200\n",
            "13/13 [==============================] - 3s 3ms/step - loss: 1.0055 - accuracy: 0.4800\n",
            "Epoch 2/200\n",
            "13/13 [==============================] - 0s 5ms/step - loss: 0.8714 - accuracy: 0.4800\n",
            "Epoch 3/200\n",
            "13/13 [==============================] - 0s 3ms/step - loss: 0.7893 - accuracy: 0.4800\n",
            "Epoch 4/200\n",
            "13/13 [==============================] - 0s 3ms/step - loss: 0.7379 - accuracy: 0.4800\n",
            "Epoch 5/200\n",
            "13/13 [==============================] - 0s 3ms/step - loss: 0.7114 - accuracy: 0.4800\n",
            "Epoch 6/200\n",
            "13/13 [==============================] - 0s 3ms/step - loss: 0.6991 - accuracy: 0.4800\n",
            "Epoch 7/200\n",
            "13/13 [==============================] - 0s 3ms/step - loss: 0.6957 - accuracy: 0.4800\n",
            "Epoch 8/200\n",
            "13/13 [==============================] - 0s 3ms/step - loss: 0.6932 - accuracy: 0.5200\n",
            "Epoch 9/200\n",
            "13/13 [==============================] - 0s 3ms/step - loss: 0.6931 - accuracy: 0.5200\n",
            "Epoch 10/200\n",
            "13/13 [==============================] - 0s 3ms/step - loss: 0.6936 - accuracy: 0.5200\n",
            "Epoch 11/200\n",
            "13/13 [==============================] - 0s 6ms/step - loss: 0.6934 - accuracy: 0.4700\n",
            "Epoch 12/200\n",
            "13/13 [==============================] - 0s 5ms/step - loss: 0.6930 - accuracy: 0.5200\n",
            "Epoch 13/200\n",
            "13/13 [==============================] - 0s 6ms/step - loss: 0.6931 - accuracy: 0.5200\n",
            "Epoch 14/200\n",
            "13/13 [==============================] - 0s 6ms/step - loss: 0.6928 - accuracy: 0.5200\n",
            "Epoch 15/200\n",
            "13/13 [==============================] - 0s 5ms/step - loss: 0.6937 - accuracy: 0.5200\n",
            "Epoch 16/200\n",
            "13/13 [==============================] - 0s 6ms/step - loss: 0.6936 - accuracy: 0.4750\n",
            "Epoch 17/200\n",
            "13/13 [==============================] - 0s 7ms/step - loss: 0.6931 - accuracy: 0.5200\n",
            "Epoch 18/200\n",
            "13/13 [==============================] - 0s 6ms/step - loss: 0.6928 - accuracy: 0.5200\n",
            "Epoch 19/200\n",
            "13/13 [==============================] - 0s 6ms/step - loss: 0.6929 - accuracy: 0.5200\n",
            "Epoch 20/200\n",
            "13/13 [==============================] - 0s 5ms/step - loss: 0.6934 - accuracy: 0.5200\n",
            "Epoch 21/200\n",
            "13/13 [==============================] - 0s 6ms/step - loss: 0.6932 - accuracy: 0.5200\n",
            "Epoch 22/200\n",
            "13/13 [==============================] - 0s 7ms/step - loss: 0.6938 - accuracy: 0.5200\n",
            "Epoch 23/200\n",
            "13/13 [==============================] - 0s 6ms/step - loss: 0.6928 - accuracy: 0.5200\n",
            "Epoch 24/200\n",
            "13/13 [==============================] - 0s 6ms/step - loss: 0.6934 - accuracy: 0.5200\n",
            "Epoch 25/200\n",
            "13/13 [==============================] - 0s 6ms/step - loss: 0.6939 - accuracy: 0.5200\n",
            "Epoch 26/200\n",
            "13/13 [==============================] - 0s 5ms/step - loss: 0.6938 - accuracy: 0.5000\n",
            "Epoch 27/200\n",
            "13/13 [==============================] - 0s 5ms/step - loss: 0.6940 - accuracy: 0.5200\n",
            "Epoch 28/200\n",
            "13/13 [==============================] - 0s 6ms/step - loss: 0.6931 - accuracy: 0.5200\n",
            "Epoch 29/200\n",
            "13/13 [==============================] - 0s 5ms/step - loss: 0.6931 - accuracy: 0.5200\n",
            "Epoch 30/200\n",
            "13/13 [==============================] - 0s 6ms/step - loss: 0.6936 - accuracy: 0.5200\n",
            "Epoch 31/200\n",
            "13/13 [==============================] - 0s 5ms/step - loss: 0.6931 - accuracy: 0.5200\n",
            "Epoch 32/200\n",
            "13/13 [==============================] - 0s 5ms/step - loss: 0.6932 - accuracy: 0.5200\n",
            "Epoch 33/200\n",
            "13/13 [==============================] - 0s 5ms/step - loss: 0.6933 - accuracy: 0.5200\n",
            "Epoch 34/200\n",
            "13/13 [==============================] - 0s 5ms/step - loss: 0.6937 - accuracy: 0.5200\n",
            "Epoch 35/200\n",
            "13/13 [==============================] - 0s 6ms/step - loss: 0.6938 - accuracy: 0.5200\n",
            "Epoch 36/200\n",
            "13/13 [==============================] - 0s 6ms/step - loss: 0.6931 - accuracy: 0.5200\n",
            "Epoch 37/200\n",
            "13/13 [==============================] - 0s 6ms/step - loss: 0.6937 - accuracy: 0.5200\n",
            "Epoch 38/200\n",
            "13/13 [==============================] - 0s 7ms/step - loss: 0.6942 - accuracy: 0.5200\n",
            "Epoch 39/200\n",
            "13/13 [==============================] - 0s 6ms/step - loss: 0.6928 - accuracy: 0.5200\n",
            "Epoch 40/200\n",
            "13/13 [==============================] - 0s 5ms/step - loss: 0.6929 - accuracy: 0.5200\n",
            "Epoch 41/200\n",
            "13/13 [==============================] - 0s 5ms/step - loss: 0.6937 - accuracy: 0.5200\n",
            "Epoch 42/200\n",
            "13/13 [==============================] - 0s 6ms/step - loss: 0.6933 - accuracy: 0.5200\n",
            "Epoch 43/200\n",
            "13/13 [==============================] - 0s 5ms/step - loss: 0.6934 - accuracy: 0.5200\n",
            "Epoch 44/200\n",
            "13/13 [==============================] - 0s 5ms/step - loss: 0.6936 - accuracy: 0.5200\n",
            "Epoch 45/200\n",
            "13/13 [==============================] - 0s 6ms/step - loss: 0.6939 - accuracy: 0.5200\n",
            "Epoch 46/200\n",
            "13/13 [==============================] - 0s 6ms/step - loss: 0.6927 - accuracy: 0.5200\n",
            "Epoch 47/200\n",
            "13/13 [==============================] - 0s 5ms/step - loss: 0.6935 - accuracy: 0.5200\n",
            "Epoch 48/200\n",
            "13/13 [==============================] - 0s 5ms/step - loss: 0.6926 - accuracy: 0.5050\n",
            "Epoch 49/200\n",
            "13/13 [==============================] - 0s 5ms/step - loss: 0.6927 - accuracy: 0.5200\n",
            "Epoch 50/200\n",
            "13/13 [==============================] - 0s 3ms/step - loss: 0.6941 - accuracy: 0.4950\n",
            "Epoch 51/200\n",
            "13/13 [==============================] - 0s 3ms/step - loss: 0.6936 - accuracy: 0.5200\n",
            "Epoch 52/200\n",
            "13/13 [==============================] - 0s 4ms/step - loss: 0.6928 - accuracy: 0.5200\n",
            "Epoch 53/200\n",
            "13/13 [==============================] - 0s 3ms/step - loss: 0.6938 - accuracy: 0.5200\n",
            "Epoch 54/200\n",
            "13/13 [==============================] - 0s 3ms/step - loss: 0.6933 - accuracy: 0.5200\n",
            "Epoch 55/200\n",
            "13/13 [==============================] - 0s 4ms/step - loss: 0.6934 - accuracy: 0.5200\n",
            "Epoch 56/200\n",
            "13/13 [==============================] - 0s 3ms/step - loss: 0.6934 - accuracy: 0.5200\n",
            "Epoch 57/200\n",
            "13/13 [==============================] - 0s 3ms/step - loss: 0.6942 - accuracy: 0.5200\n",
            "Epoch 58/200\n",
            "13/13 [==============================] - 0s 4ms/step - loss: 0.6924 - accuracy: 0.5200\n",
            "Epoch 59/200\n",
            "13/13 [==============================] - 0s 3ms/step - loss: 0.6932 - accuracy: 0.5200\n",
            "Epoch 60/200\n",
            "13/13 [==============================] - 0s 3ms/step - loss: 0.6942 - accuracy: 0.5200\n",
            "Epoch 61/200\n",
            "13/13 [==============================] - 0s 3ms/step - loss: 0.6936 - accuracy: 0.5200\n",
            "Epoch 62/200\n",
            "13/13 [==============================] - 0s 4ms/step - loss: 0.6930 - accuracy: 0.5200\n",
            "Epoch 63/200\n",
            "13/13 [==============================] - 0s 3ms/step - loss: 0.6925 - accuracy: 0.5200\n",
            "Epoch 64/200\n",
            "13/13 [==============================] - 0s 3ms/step - loss: 0.6936 - accuracy: 0.5200\n",
            "Epoch 65/200\n",
            "13/13 [==============================] - 0s 3ms/step - loss: 0.6929 - accuracy: 0.5200\n",
            "Epoch 66/200\n",
            "13/13 [==============================] - 0s 4ms/step - loss: 0.6933 - accuracy: 0.5200\n",
            "Epoch 67/200\n",
            "13/13 [==============================] - 0s 3ms/step - loss: 0.6934 - accuracy: 0.5200\n",
            "Epoch 68/200\n",
            "13/13 [==============================] - 0s 4ms/step - loss: 0.6934 - accuracy: 0.5200\n",
            "Epoch 69/200\n",
            "13/13 [==============================] - 0s 3ms/step - loss: 0.6937 - accuracy: 0.5200\n",
            "Epoch 70/200\n",
            "13/13 [==============================] - 0s 4ms/step - loss: 0.6926 - accuracy: 0.5200\n",
            "Epoch 71/200\n",
            "13/13 [==============================] - 0s 3ms/step - loss: 0.6930 - accuracy: 0.5200\n",
            "Epoch 72/200\n",
            "13/13 [==============================] - 0s 3ms/step - loss: 0.6945 - accuracy: 0.5200\n",
            "Epoch 73/200\n",
            "13/13 [==============================] - 0s 3ms/step - loss: 0.6932 - accuracy: 0.5200\n",
            "Epoch 74/200\n",
            "13/13 [==============================] - 0s 3ms/step - loss: 0.6934 - accuracy: 0.5200\n",
            "Epoch 75/200\n",
            "13/13 [==============================] - 0s 3ms/step - loss: 0.6930 - accuracy: 0.5200\n",
            "Epoch 76/200\n",
            "13/13 [==============================] - 0s 4ms/step - loss: 0.6925 - accuracy: 0.5200\n",
            "Epoch 77/200\n",
            "13/13 [==============================] - 0s 3ms/step - loss: 0.6944 - accuracy: 0.5200\n",
            "Epoch 78/200\n",
            "13/13 [==============================] - 0s 3ms/step - loss: 0.6933 - accuracy: 0.5200\n",
            "Epoch 79/200\n",
            "13/13 [==============================] - 0s 3ms/step - loss: 0.6929 - accuracy: 0.5200\n",
            "Epoch 80/200\n",
            "13/13 [==============================] - 0s 3ms/step - loss: 0.6936 - accuracy: 0.5200\n",
            "Epoch 81/200\n",
            "13/13 [==============================] - 0s 3ms/step - loss: 0.6933 - accuracy: 0.5200\n",
            "Epoch 82/200\n",
            "13/13 [==============================] - 0s 3ms/step - loss: 0.6933 - accuracy: 0.5200\n",
            "Epoch 83/200\n",
            "13/13 [==============================] - 0s 3ms/step - loss: 0.6935 - accuracy: 0.5200\n",
            "Epoch 84/200\n",
            "13/13 [==============================] - 0s 3ms/step - loss: 0.6932 - accuracy: 0.5200\n",
            "Epoch 85/200\n",
            "13/13 [==============================] - 0s 4ms/step - loss: 0.6929 - accuracy: 0.5200\n",
            "Epoch 86/200\n",
            "13/13 [==============================] - 0s 4ms/step - loss: 0.6935 - accuracy: 0.5200\n",
            "Epoch 87/200\n",
            "13/13 [==============================] - 0s 6ms/step - loss: 0.6934 - accuracy: 0.5200\n",
            "Epoch 88/200\n",
            "13/13 [==============================] - 0s 4ms/step - loss: 0.6933 - accuracy: 0.5200\n",
            "Epoch 89/200\n",
            "13/13 [==============================] - 0s 3ms/step - loss: 0.6930 - accuracy: 0.5200\n",
            "Epoch 90/200\n",
            "13/13 [==============================] - 0s 3ms/step - loss: 0.6933 - accuracy: 0.4950\n",
            "Epoch 91/200\n",
            "13/13 [==============================] - 0s 3ms/step - loss: 0.6930 - accuracy: 0.5150\n",
            "Epoch 92/200\n",
            "13/13 [==============================] - 0s 3ms/step - loss: 0.6931 - accuracy: 0.5200\n",
            "Epoch 93/200\n",
            "13/13 [==============================] - 0s 3ms/step - loss: 0.6936 - accuracy: 0.5200\n",
            "Epoch 94/200\n",
            "13/13 [==============================] - 0s 3ms/step - loss: 0.6938 - accuracy: 0.5200\n",
            "Epoch 95/200\n",
            "13/13 [==============================] - 0s 3ms/step - loss: 0.6935 - accuracy: 0.5200\n",
            "Epoch 96/200\n",
            "13/13 [==============================] - 0s 3ms/step - loss: 0.6930 - accuracy: 0.5200\n",
            "Epoch 97/200\n",
            "13/13 [==============================] - 0s 3ms/step - loss: 0.6930 - accuracy: 0.5200\n",
            "Epoch 98/200\n",
            "13/13 [==============================] - 0s 3ms/step - loss: 0.6940 - accuracy: 0.5200\n",
            "Epoch 99/200\n",
            "13/13 [==============================] - 0s 3ms/step - loss: 0.6933 - accuracy: 0.5200\n",
            "Epoch 100/200\n",
            "13/13 [==============================] - 0s 3ms/step - loss: 0.6933 - accuracy: 0.5200\n",
            "Epoch 101/200\n",
            "13/13 [==============================] - 0s 3ms/step - loss: 0.6930 - accuracy: 0.5200\n",
            "Epoch 102/200\n",
            "13/13 [==============================] - 0s 4ms/step - loss: 0.6934 - accuracy: 0.5200\n",
            "Epoch 103/200\n",
            "13/13 [==============================] - 0s 3ms/step - loss: 0.6940 - accuracy: 0.5200\n",
            "Epoch 104/200\n",
            "13/13 [==============================] - 0s 3ms/step - loss: 0.6933 - accuracy: 0.5200\n",
            "Epoch 105/200\n",
            "13/13 [==============================] - 0s 3ms/step - loss: 0.6928 - accuracy: 0.5200\n",
            "Epoch 106/200\n",
            "13/13 [==============================] - 0s 3ms/step - loss: 0.6937 - accuracy: 0.5200\n",
            "Epoch 107/200\n",
            "13/13 [==============================] - 0s 4ms/step - loss: 0.6930 - accuracy: 0.5200\n",
            "Epoch 108/200\n",
            "13/13 [==============================] - 0s 4ms/step - loss: 0.6931 - accuracy: 0.5200\n",
            "Epoch 109/200\n",
            "13/13 [==============================] - 0s 3ms/step - loss: 0.6932 - accuracy: 0.5200\n",
            "Epoch 110/200\n",
            "13/13 [==============================] - 0s 3ms/step - loss: 0.6933 - accuracy: 0.5200\n",
            "Epoch 111/200\n",
            "13/13 [==============================] - 0s 3ms/step - loss: 0.6936 - accuracy: 0.5200\n",
            "Epoch 112/200\n",
            "13/13 [==============================] - 0s 3ms/step - loss: 0.6931 - accuracy: 0.5200\n",
            "Epoch 113/200\n",
            "13/13 [==============================] - 0s 3ms/step - loss: 0.6935 - accuracy: 0.5200\n",
            "Epoch 114/200\n",
            "13/13 [==============================] - 0s 3ms/step - loss: 0.6933 - accuracy: 0.5200\n",
            "Epoch 115/200\n",
            "13/13 [==============================] - 0s 3ms/step - loss: 0.6934 - accuracy: 0.5200\n",
            "Epoch 116/200\n",
            "13/13 [==============================] - 0s 3ms/step - loss: 0.6929 - accuracy: 0.5200\n",
            "Epoch 117/200\n",
            "13/13 [==============================] - 0s 3ms/step - loss: 0.6931 - accuracy: 0.5200\n",
            "Epoch 118/200\n",
            "13/13 [==============================] - 0s 3ms/step - loss: 0.6932 - accuracy: 0.5200\n",
            "Epoch 119/200\n",
            "13/13 [==============================] - 0s 3ms/step - loss: 0.6931 - accuracy: 0.5200\n",
            "Epoch 120/200\n",
            "13/13 [==============================] - 0s 3ms/step - loss: 0.6935 - accuracy: 0.5200\n",
            "Epoch 121/200\n",
            "13/13 [==============================] - 0s 3ms/step - loss: 0.6933 - accuracy: 0.5200\n",
            "Epoch 122/200\n",
            "13/13 [==============================] - 0s 4ms/step - loss: 0.6933 - accuracy: 0.5200\n",
            "Epoch 123/200\n",
            "13/13 [==============================] - 0s 3ms/step - loss: 0.6930 - accuracy: 0.5200\n",
            "Epoch 124/200\n",
            "13/13 [==============================] - 0s 3ms/step - loss: 0.6934 - accuracy: 0.5200\n",
            "Epoch 125/200\n",
            "13/13 [==============================] - 0s 4ms/step - loss: 0.6931 - accuracy: 0.5200\n",
            "Epoch 126/200\n",
            "13/13 [==============================] - 0s 4ms/step - loss: 0.6929 - accuracy: 0.5200\n",
            "Epoch 127/200\n",
            "13/13 [==============================] - 0s 4ms/step - loss: 0.6939 - accuracy: 0.5200\n",
            "Epoch 128/200\n",
            "13/13 [==============================] - 0s 3ms/step - loss: 0.6934 - accuracy: 0.5200\n",
            "Epoch 129/200\n",
            "13/13 [==============================] - 0s 3ms/step - loss: 0.6943 - accuracy: 0.5200\n",
            "Epoch 130/200\n",
            "13/13 [==============================] - 0s 3ms/step - loss: 0.6929 - accuracy: 0.5200\n",
            "Epoch 131/200\n",
            "13/13 [==============================] - 0s 3ms/step - loss: 0.6933 - accuracy: 0.5200\n",
            "Epoch 132/200\n",
            "13/13 [==============================] - 0s 3ms/step - loss: 0.6933 - accuracy: 0.5200\n",
            "Epoch 133/200\n",
            "13/13 [==============================] - 0s 3ms/step - loss: 0.6926 - accuracy: 0.5200\n",
            "Epoch 134/200\n",
            "13/13 [==============================] - 0s 3ms/step - loss: 0.6933 - accuracy: 0.5200\n",
            "Epoch 135/200\n",
            "13/13 [==============================] - 0s 3ms/step - loss: 0.6934 - accuracy: 0.5200\n",
            "Epoch 136/200\n",
            "13/13 [==============================] - 0s 3ms/step - loss: 0.6934 - accuracy: 0.5200\n",
            "Epoch 137/200\n",
            "13/13 [==============================] - 0s 3ms/step - loss: 0.6938 - accuracy: 0.5200\n",
            "Epoch 138/200\n",
            "13/13 [==============================] - 0s 3ms/step - loss: 0.6929 - accuracy: 0.5200\n",
            "Epoch 139/200\n",
            "13/13 [==============================] - 0s 3ms/step - loss: 0.6928 - accuracy: 0.5200\n",
            "Epoch 140/200\n",
            "13/13 [==============================] - 0s 3ms/step - loss: 0.6939 - accuracy: 0.5200\n",
            "Epoch 141/200\n",
            "13/13 [==============================] - 0s 3ms/step - loss: 0.6931 - accuracy: 0.5200\n",
            "Epoch 142/200\n",
            "13/13 [==============================] - 0s 3ms/step - loss: 0.6934 - accuracy: 0.5200\n",
            "Epoch 143/200\n",
            "13/13 [==============================] - 0s 3ms/step - loss: 0.6933 - accuracy: 0.5200\n",
            "Epoch 144/200\n",
            "13/13 [==============================] - 0s 3ms/step - loss: 0.6939 - accuracy: 0.5200\n",
            "Epoch 145/200\n",
            "13/13 [==============================] - 0s 3ms/step - loss: 0.6933 - accuracy: 0.5200\n",
            "Epoch 146/200\n",
            "13/13 [==============================] - 0s 4ms/step - loss: 0.6932 - accuracy: 0.5200\n",
            "Epoch 147/200\n",
            "13/13 [==============================] - 0s 4ms/step - loss: 0.6936 - accuracy: 0.5200\n",
            "Epoch 148/200\n",
            "13/13 [==============================] - 0s 3ms/step - loss: 0.6932 - accuracy: 0.5200\n",
            "Epoch 149/200\n",
            "13/13 [==============================] - 0s 4ms/step - loss: 0.6934 - accuracy: 0.5200\n",
            "Epoch 150/200\n",
            "13/13 [==============================] - 0s 3ms/step - loss: 0.6929 - accuracy: 0.5200\n",
            "Epoch 151/200\n",
            "13/13 [==============================] - 0s 3ms/step - loss: 0.6932 - accuracy: 0.5200\n",
            "Epoch 152/200\n",
            "13/13 [==============================] - 0s 3ms/step - loss: 0.6933 - accuracy: 0.5200\n",
            "Epoch 153/200\n",
            "13/13 [==============================] - 0s 3ms/step - loss: 0.6938 - accuracy: 0.5200\n",
            "Epoch 154/200\n",
            "13/13 [==============================] - 0s 3ms/step - loss: 0.6934 - accuracy: 0.5200\n",
            "Epoch 155/200\n",
            "13/13 [==============================] - 0s 3ms/step - loss: 0.6936 - accuracy: 0.5200\n",
            "Epoch 156/200\n",
            "13/13 [==============================] - 0s 3ms/step - loss: 0.6935 - accuracy: 0.5200\n",
            "Epoch 157/200\n",
            "13/13 [==============================] - 0s 3ms/step - loss: 0.6931 - accuracy: 0.5200\n",
            "Epoch 158/200\n",
            "13/13 [==============================] - 0s 3ms/step - loss: 0.6934 - accuracy: 0.5200\n",
            "Epoch 159/200\n",
            "13/13 [==============================] - 0s 4ms/step - loss: 0.6931 - accuracy: 0.5200\n",
            "Epoch 160/200\n",
            "13/13 [==============================] - 0s 4ms/step - loss: 0.6933 - accuracy: 0.5200\n",
            "Epoch 161/200\n",
            "13/13 [==============================] - 0s 3ms/step - loss: 0.6931 - accuracy: 0.5200\n",
            "Epoch 162/200\n",
            "13/13 [==============================] - 0s 3ms/step - loss: 0.6933 - accuracy: 0.5200\n",
            "Epoch 163/200\n",
            "13/13 [==============================] - 0s 3ms/step - loss: 0.6943 - accuracy: 0.5200\n",
            "Epoch 164/200\n",
            "13/13 [==============================] - 0s 3ms/step - loss: 0.6936 - accuracy: 0.5200\n",
            "Epoch 165/200\n",
            "13/13 [==============================] - 0s 3ms/step - loss: 0.6928 - accuracy: 0.5200\n",
            "Epoch 166/200\n",
            "13/13 [==============================] - 0s 4ms/step - loss: 0.6930 - accuracy: 0.5200\n",
            "Epoch 167/200\n",
            "13/13 [==============================] - 0s 3ms/step - loss: 0.6930 - accuracy: 0.5200\n",
            "Epoch 168/200\n",
            "13/13 [==============================] - 0s 3ms/step - loss: 0.6937 - accuracy: 0.5200\n",
            "Epoch 169/200\n",
            "13/13 [==============================] - 0s 3ms/step - loss: 0.6931 - accuracy: 0.5200\n",
            "Epoch 170/200\n",
            "13/13 [==============================] - 0s 4ms/step - loss: 0.6931 - accuracy: 0.5200\n",
            "Epoch 171/200\n",
            "13/13 [==============================] - 0s 3ms/step - loss: 0.6930 - accuracy: 0.5200\n",
            "Epoch 172/200\n",
            "13/13 [==============================] - 0s 3ms/step - loss: 0.6931 - accuracy: 0.5200\n",
            "Epoch 173/200\n",
            "13/13 [==============================] - 0s 3ms/step - loss: 0.6937 - accuracy: 0.5200\n",
            "Epoch 174/200\n",
            "13/13 [==============================] - 0s 3ms/step - loss: 0.6930 - accuracy: 0.5200\n",
            "Epoch 175/200\n",
            "13/13 [==============================] - 0s 3ms/step - loss: 0.6932 - accuracy: 0.5000\n",
            "Epoch 176/200\n",
            "13/13 [==============================] - 0s 4ms/step - loss: 0.6932 - accuracy: 0.5200\n",
            "Epoch 177/200\n",
            "13/13 [==============================] - 0s 3ms/step - loss: 0.6932 - accuracy: 0.5200\n",
            "Epoch 178/200\n",
            "13/13 [==============================] - 0s 3ms/step - loss: 0.6934 - accuracy: 0.5100\n",
            "Epoch 179/200\n",
            "13/13 [==============================] - 0s 3ms/step - loss: 0.6934 - accuracy: 0.4950\n",
            "Epoch 180/200\n",
            "13/13 [==============================] - 0s 3ms/step - loss: 0.6934 - accuracy: 0.5200\n",
            "Epoch 181/200\n",
            "13/13 [==============================] - 0s 3ms/step - loss: 0.6934 - accuracy: 0.5200\n",
            "Epoch 182/200\n",
            "13/13 [==============================] - 0s 3ms/step - loss: 0.6927 - accuracy: 0.5200\n",
            "Epoch 183/200\n",
            "13/13 [==============================] - 0s 3ms/step - loss: 0.6930 - accuracy: 0.5100\n",
            "Epoch 184/200\n",
            "13/13 [==============================] - 0s 5ms/step - loss: 0.6934 - accuracy: 0.5200\n",
            "Epoch 185/200\n",
            "13/13 [==============================] - 0s 6ms/step - loss: 0.6928 - accuracy: 0.5200\n",
            "Epoch 186/200\n",
            "13/13 [==============================] - 0s 3ms/step - loss: 0.6930 - accuracy: 0.5200\n",
            "Epoch 187/200\n",
            "13/13 [==============================] - 0s 3ms/step - loss: 0.6934 - accuracy: 0.5200\n",
            "Epoch 188/200\n",
            "13/13 [==============================] - 0s 4ms/step - loss: 0.6928 - accuracy: 0.5200\n",
            "Epoch 189/200\n",
            "13/13 [==============================] - 0s 4ms/step - loss: 0.6936 - accuracy: 0.5200\n",
            "Epoch 190/200\n",
            "13/13 [==============================] - 0s 4ms/step - loss: 0.6932 - accuracy: 0.5200\n",
            "Epoch 191/200\n",
            "13/13 [==============================] - 0s 3ms/step - loss: 0.6934 - accuracy: 0.5200\n",
            "Epoch 192/200\n",
            "13/13 [==============================] - 0s 4ms/step - loss: 0.6933 - accuracy: 0.5200\n",
            "Epoch 193/200\n",
            "13/13 [==============================] - 0s 4ms/step - loss: 0.6931 - accuracy: 0.5200\n",
            "Epoch 194/200\n",
            "13/13 [==============================] - 0s 3ms/step - loss: 0.6936 - accuracy: 0.5100\n",
            "Epoch 195/200\n",
            "13/13 [==============================] - 0s 4ms/step - loss: 0.6937 - accuracy: 0.5200\n",
            "Epoch 196/200\n",
            "13/13 [==============================] - 0s 4ms/step - loss: 0.6933 - accuracy: 0.5200\n",
            "Epoch 197/200\n",
            "13/13 [==============================] - 0s 3ms/step - loss: 0.6934 - accuracy: 0.5200\n",
            "Epoch 198/200\n",
            "13/13 [==============================] - 0s 3ms/step - loss: 0.6933 - accuracy: 0.5200\n",
            "Epoch 199/200\n",
            "13/13 [==============================] - 0s 3ms/step - loss: 0.6931 - accuracy: 0.5200\n",
            "Epoch 200/200\n",
            "13/13 [==============================] - 0s 3ms/step - loss: 0.6934 - accuracy: 0.5200\n"
          ]
        }
      ]
    },
    {
      "cell_type": "code",
      "source": [
        "# plot the loss graph\n",
        "\n",
        "plt.plot(history.history['loss'])\n",
        "plt.xlabel('Number of epochs')\n",
        "plt.ylabel('Loss')\n",
        "plt.title('Loss change')\n",
        "plt.show()"
      ],
      "metadata": {
        "colab": {
          "base_uri": "https://localhost:8080/",
          "height": 295
        },
        "id": "VqX40QrWVO_U",
        "outputId": "4780dc35-6af9-472a-ccd1-a644c277ac99"
      },
      "execution_count": 18,
      "outputs": [
        {
          "output_type": "display_data",
          "data": {
            "text/plain": [
              "<Figure size 432x288 with 1 Axes>"
            ],
            "image/png": "[encoded data removed]"
          },
          "metadata": {
            "needs_background": "light"
          }
        }
      ]
    },
    {
      "cell_type": "markdown",
      "source": [
        "The Loss is constantly stuck around 0.7 and does not decrease at all."
      ],
      "metadata": {
        "id": "8YlRU6WTVequ"
      }
    },
    {
      "cell_type": "code",
      "source": [
        "# plot the accuracy graph\n",
        "\n",
        "plt.plot(history.history['accuracy'])\n",
        "plt.xlabel('Number of epochs')\n",
        "plt.ylabel('accuracy')\n",
        "plt.title('accuracy change')\n",
        "plt.show()"
      ],
      "metadata": {
        "colab": {
          "base_uri": "https://localhost:8080/",
          "height": 295
        },
        "id": "2Y9vEbCIVeXd",
        "outputId": "27a8ea45-a6d7-4f9c-9225-559655fd0215"
      },
      "execution_count": 19,
      "outputs": [
        {
          "output_type": "display_data",
          "data": {
            "text/plain": [
              "<Figure size 432x288 with 1 Axes>"
            ],
            "image/png": "[encoded data removed]"
          },
          "metadata": {
            "needs_background": "light"
          }
        }
      ]
    },
    {
      "cell_type": "markdown",
      "source": [
        "The accuracy is also stuck around the 0.52 value and does not increase at all"
      ],
      "metadata": {
        "id": "gpWYVs_hV_Rs"
      }
    },
    {
      "cell_type": "code",
      "source": [
        "new_weights = model.get_weights()[0]"
      ],
      "metadata": {
        "id": "_LOnfngBVcJh"
      },
      "execution_count": 20,
      "outputs": []
    },
    {
      "cell_type": "code",
      "source": [
        "# get the learning rate value for the model\n",
        "\n",
        "lr = model.optimizer.learning_rate.numpy()"
      ],
      "metadata": {
        "id": "OLRqM3F3WImY"
      },
      "execution_count": 34,
      "outputs": []
    },
    {
      "cell_type": "code",
      "source": [
        "# calculate the gradients\n",
        "\n",
        "gradients = (old_weights - new_weights) / lr\n",
        "\n",
        "gradients"
      ],
      "metadata": {
        "colab": {
          "base_uri": "https://localhost:8080/"
        },
        "id": "miXdcPDvWRkn",
        "outputId": "dca1bf45-03da-4634-a41f-1228c66ea5af"
      },
      "execution_count": 35,
      "outputs": [
        {
          "output_type": "execute_result",
          "data": {
            "text/plain": [
              "array([[-0.19124149,  0.87156886,  0.10830163,  0.8835345 , -0.90971583,\n",
              "        -0.6516873 ,  0.787124  , -0.12660027, -1.3008415 , -0.02145767,\n",
              "         0.66471094,  0.54552406, -0.3249496 ,  0.1785159 , -1.7610862 ,\n",
              "        -0.2784133 , -0.52901727,  1.0118037 , -0.622876  ,  0.2944693 ],\n",
              "       [ 0.15539117, -0.6894804 , -0.08622929, -0.6408393 ,  0.6680786 ,\n",
              "         0.51787496, -0.5569756 ,  0.07525086,  1.0142028 ,  0.020504  ,\n",
              "        -0.50362945, -0.38341057,  0.23773311, -0.14257431,  1.2610033 ,\n",
              "         0.19185244,  0.38827953, -0.73024625,  0.4278123 , -0.21725892]],\n",
              "      dtype=float32)"
            ]
          },
          "metadata": {},
          "execution_count": 35
        }
      ]
    },
    {
      "cell_type": "code",
      "source": [
        "# percentage change of weights\n",
        "\n",
        "per_change = abs((new_weights - old_weights) / old_weights) * 100\n",
        "\n",
        "per_change"
      ],
      "metadata": {
        "colab": {
          "base_uri": "https://localhost:8080/"
        },
        "id": "KJ5PHpVrXtt3",
        "outputId": "e25b3eab-3f7b-469d-af35-9064b29a9add"
      },
      "execution_count": 36,
      "outputs": [
        {
          "output_type": "execute_result",
          "data": {
            "text/plain": [
              "array([[0.04640287, 0.2082279 , 0.04345814, 0.49000198, 0.560763  ,\n",
              "        0.14111538, 0.48907033, 0.02516541, 0.28521657, 0.00431136,\n",
              "        0.21389173, 0.47090304, 0.16733359, 0.03692074, 3.4851253 ,\n",
              "        0.08386923, 0.9105034 , 0.6403276 , 0.9606024 , 0.48522964],\n",
              "       [0.4956795 , 2.0101104 , 0.31943992, 0.2032829 , 0.15511528,\n",
              "        0.12065758, 0.2501119 , 0.05160829, 0.3234883 , 0.00668184,\n",
              "        0.12785374, 0.96542406, 0.0496427 , 0.03632166, 1.3527206 ,\n",
              "        0.07968211, 0.45555887, 0.24932446, 0.16830662, 0.07299536]],\n",
              "      dtype=float32)"
            ]
          },
          "metadata": {},
          "execution_count": 36
        }
      ]
    },
    {
      "cell_type": "markdown",
      "source": [
        "The percentage change in the value of weights even running the model for 200 epochs is very less and seems that the weights have not been updated at all.    \n",
        "This all results due to the **Vanishing Gradient problem** which does not allow the weight updation to properly take place and also does not allow the model to minimize its loss."
      ],
      "metadata": {
        "id": "Vy756DNbYC_K"
      }
    },
    {
      "cell_type": "code",
      "source": [],
      "metadata": {
        "id": "lXMRu8kjX_JM"
      },
      "execution_count": null,
      "outputs": []
    }
  ]
}