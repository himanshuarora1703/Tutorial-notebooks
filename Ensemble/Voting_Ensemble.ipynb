{
  "nbformat": 4,
  "nbformat_minor": 0,
  "metadata": {
    "colab": {
      "provenance": [],
      "authorship_tag": "ABX9TyM0POtxmKW27QytBYZ8GF5q",
      "include_colab_link": true
    },
    "kernelspec": {
      "name": "python3",
      "display_name": "Python 3"
    },
    "language_info": {
      "name": "python"
    }
  },
  "cells": [
    {
      "cell_type": "markdown",
      "metadata": {
        "id": "view-in-github",
        "colab_type": "text"
      },
      "source": [
        "<a href=\"https://colab.research.google.com/github/himanshuarora1703/Tutorial-notebooks/blob/main/Ensemble/Voting_Ensemble.ipynb\" target=\"_parent\"><img src=\"https://colab.research.google.com/assets/colab-badge.svg\" alt=\"Open In Colab\"/></a>"
      ]
    },
    {
      "cell_type": "code",
      "execution_count": 1,
      "metadata": {
        "id": "wZxtoKuFl3B-"
      },
      "outputs": [],
      "source": [
        "import pandas as pd\n",
        "import numpy as np\n",
        "import matplotlib.pyplot as plt\n",
        "from mlxtend.plotting import plot_decision_regions\n",
        "from sklearn.datasets import load_iris\n",
        "from sklearn.model_selection import train_test_split\n",
        "from sklearn.metrics import accuracy_score\n",
        "from sklearn.model_selection import cross_val_score\n",
        "import seaborn as sns"
      ]
    },
    {
      "cell_type": "code",
      "source": [
        "data = load_iris()\n",
        "\n",
        "data.keys()"
      ],
      "metadata": {
        "colab": {
          "base_uri": "https://localhost:8080/"
        },
        "id": "66c_LYnMmxr9",
        "outputId": "a9168a16-19e7-4df6-b988-c2795561f001"
      },
      "execution_count": 2,
      "outputs": [
        {
          "output_type": "execute_result",
          "data": {
            "text/plain": [
              "dict_keys(['data', 'target', 'frame', 'target_names', 'DESCR', 'feature_names', 'filename', 'data_module'])"
            ]
          },
          "metadata": {},
          "execution_count": 2
        }
      ]
    },
    {
      "cell_type": "code",
      "source": [
        "X = pd.DataFrame(data['data'],columns=data['feature_names'])\n",
        "y = pd.Series(data['target'],name='target')\n",
        "\n",
        "X"
      ],
      "metadata": {
        "colab": {
          "base_uri": "https://localhost:8080/",
          "height": 423
        },
        "id": "yI47xZO_m310",
        "outputId": "44f3e334-11f3-476f-ce55-8116da5817ff"
      },
      "execution_count": 3,
      "outputs": [
        {
          "output_type": "execute_result",
          "data": {
            "text/plain": [
              "     sepal length (cm)  sepal width (cm)  petal length (cm)  petal width (cm)\n",
              "0                  5.1               3.5                1.4               0.2\n",
              "1                  4.9               3.0                1.4               0.2\n",
              "2                  4.7               3.2                1.3               0.2\n",
              "3                  4.6               3.1                1.5               0.2\n",
              "4                  5.0               3.6                1.4               0.2\n",
              "..                 ...               ...                ...               ...\n",
              "145                6.7               3.0                5.2               2.3\n",
              "146                6.3               2.5                5.0               1.9\n",
              "147                6.5               3.0                5.2               2.0\n",
              "148                6.2               3.4                5.4               2.3\n",
              "149                5.9               3.0                5.1               1.8\n",
              "\n",
              "[150 rows x 4 columns]"
            ],
            "text/html": [
              "\n",
              "  <div id=\"df-0562c185-5492-4990-965d-36d75673583b\">\n",
              "    <div class=\"colab-df-container\">\n",
              "      <div>\n",
              "<style scoped>\n",
              "    .dataframe tbody tr th:only-of-type {\n",
              "        vertical-align: middle;\n",
              "    }\n",
              "\n",
              "    .dataframe tbody tr th {\n",
              "        vertical-align: top;\n",
              "    }\n",
              "\n",
              "    .dataframe thead th {\n",
              "        text-align: right;\n",
              "    }\n",
              "</style>\n",
              "<table border=\"1\" class=\"dataframe\">\n",
              "  <thead>\n",
              "    <tr style=\"text-align: right;\">\n",
              "      <th></th>\n",
              "      <th>sepal length (cm)</th>\n",
              "      <th>sepal width (cm)</th>\n",
              "      <th>petal length (cm)</th>\n",
              "      <th>petal width (cm)</th>\n",
              "    </tr>\n",
              "  </thead>\n",
              "  <tbody>\n",
              "    <tr>\n",
              "      <th>0</th>\n",
              "      <td>5.1</td>\n",
              "      <td>3.5</td>\n",
              "      <td>1.4</td>\n",
              "      <td>0.2</td>\n",
              "    </tr>\n",
              "    <tr>\n",
              "      <th>1</th>\n",
              "      <td>4.9</td>\n",
              "      <td>3.0</td>\n",
              "      <td>1.4</td>\n",
              "      <td>0.2</td>\n",
              "    </tr>\n",
              "    <tr>\n",
              "      <th>2</th>\n",
              "      <td>4.7</td>\n",
              "      <td>3.2</td>\n",
              "      <td>1.3</td>\n",
              "      <td>0.2</td>\n",
              "    </tr>\n",
              "    <tr>\n",
              "      <th>3</th>\n",
              "      <td>4.6</td>\n",
              "      <td>3.1</td>\n",
              "      <td>1.5</td>\n",
              "      <td>0.2</td>\n",
              "    </tr>\n",
              "    <tr>\n",
              "      <th>4</th>\n",
              "      <td>5.0</td>\n",
              "      <td>3.6</td>\n",
              "      <td>1.4</td>\n",
              "      <td>0.2</td>\n",
              "    </tr>\n",
              "    <tr>\n",
              "      <th>...</th>\n",
              "      <td>...</td>\n",
              "      <td>...</td>\n",
              "      <td>...</td>\n",
              "      <td>...</td>\n",
              "    </tr>\n",
              "    <tr>\n",
              "      <th>145</th>\n",
              "      <td>6.7</td>\n",
              "      <td>3.0</td>\n",
              "      <td>5.2</td>\n",
              "      <td>2.3</td>\n",
              "    </tr>\n",
              "    <tr>\n",
              "      <th>146</th>\n",
              "      <td>6.3</td>\n",
              "      <td>2.5</td>\n",
              "      <td>5.0</td>\n",
              "      <td>1.9</td>\n",
              "    </tr>\n",
              "    <tr>\n",
              "      <th>147</th>\n",
              "      <td>6.5</td>\n",
              "      <td>3.0</td>\n",
              "      <td>5.2</td>\n",
              "      <td>2.0</td>\n",
              "    </tr>\n",
              "    <tr>\n",
              "      <th>148</th>\n",
              "      <td>6.2</td>\n",
              "      <td>3.4</td>\n",
              "      <td>5.4</td>\n",
              "      <td>2.3</td>\n",
              "    </tr>\n",
              "    <tr>\n",
              "      <th>149</th>\n",
              "      <td>5.9</td>\n",
              "      <td>3.0</td>\n",
              "      <td>5.1</td>\n",
              "      <td>1.8</td>\n",
              "    </tr>\n",
              "  </tbody>\n",
              "</table>\n",
              "<p>150 rows × 4 columns</p>\n",
              "</div>\n",
              "      <button class=\"colab-df-convert\" onclick=\"convertToInteractive('df-0562c185-5492-4990-965d-36d75673583b')\"\n",
              "              title=\"Convert this dataframe to an interactive table.\"\n",
              "              style=\"display:none;\">\n",
              "        \n",
              "  <svg xmlns=\"http://www.w3.org/2000/svg\" height=\"24px\"viewBox=\"0 0 24 24\"\n",
              "       width=\"24px\">\n",
              "    <path d=\"M0 0h24v24H0V0z\" fill=\"none\"/>\n",
              "    <path d=\"M18.56 5.44l.94 2.06.94-2.06 2.06-.94-2.06-.94-.94-2.06-.94 2.06-2.06.94zm-11 1L8.5 8.5l.94-2.06 2.06-.94-2.06-.94L8.5 2.5l-.94 2.06-2.06.94zm10 10l.94 2.06.94-2.06 2.06-.94-2.06-.94-.94-2.06-.94 2.06-2.06.94z\"/><path d=\"M17.41 7.96l-1.37-1.37c-.4-.4-.92-.59-1.43-.59-.52 0-1.04.2-1.43.59L10.3 9.45l-7.72 7.72c-.78.78-.78 2.05 0 2.83L4 21.41c.39.39.9.59 1.41.59.51 0 1.02-.2 1.41-.59l7.78-7.78 2.81-2.81c.8-.78.8-2.07 0-2.86zM5.41 20L4 18.59l7.72-7.72 1.47 1.35L5.41 20z\"/>\n",
              "  </svg>\n",
              "      </button>\n",
              "      \n",
              "  <style>\n",
              "    .colab-df-container {\n",
              "      display:flex;\n",
              "      flex-wrap:wrap;\n",
              "      gap: 12px;\n",
              "    }\n",
              "\n",
              "    .colab-df-convert {\n",
              "      background-color: #E8F0FE;\n",
              "      border: none;\n",
              "      border-radius: 50%;\n",
              "      cursor: pointer;\n",
              "      display: none;\n",
              "      fill: #1967D2;\n",
              "      height: 32px;\n",
              "      padding: 0 0 0 0;\n",
              "      width: 32px;\n",
              "    }\n",
              "\n",
              "    .colab-df-convert:hover {\n",
              "      background-color: #E2EBFA;\n",
              "      box-shadow: 0px 1px 2px rgba(60, 64, 67, 0.3), 0px 1px 3px 1px rgba(60, 64, 67, 0.15);\n",
              "      fill: #174EA6;\n",
              "    }\n",
              "\n",
              "    [theme=dark] .colab-df-convert {\n",
              "      background-color: #3B4455;\n",
              "      fill: #D2E3FC;\n",
              "    }\n",
              "\n",
              "    [theme=dark] .colab-df-convert:hover {\n",
              "      background-color: #434B5C;\n",
              "      box-shadow: 0px 1px 3px 1px rgba(0, 0, 0, 0.15);\n",
              "      filter: drop-shadow(0px 1px 2px rgba(0, 0, 0, 0.3));\n",
              "      fill: #FFFFFF;\n",
              "    }\n",
              "  </style>\n",
              "\n",
              "      <script>\n",
              "        const buttonEl =\n",
              "          document.querySelector('#df-0562c185-5492-4990-965d-36d75673583b button.colab-df-convert');\n",
              "        buttonEl.style.display =\n",
              "          google.colab.kernel.accessAllowed ? 'block' : 'none';\n",
              "\n",
              "        async function convertToInteractive(key) {\n",
              "          const element = document.querySelector('#df-0562c185-5492-4990-965d-36d75673583b');\n",
              "          const dataTable =\n",
              "            await google.colab.kernel.invokeFunction('convertToInteractive',\n",
              "                                                     [key], {});\n",
              "          if (!dataTable) return;\n",
              "\n",
              "          const docLinkHtml = 'Like what you see? Visit the ' +\n",
              "            '<a target=\"_blank\" href=https://colab.research.google.com/notebooks/data_table.ipynb>data table notebook</a>'\n",
              "            + ' to learn more about interactive tables.';\n",
              "          element.innerHTML = '';\n",
              "          dataTable['output_type'] = 'display_data';\n",
              "          await google.colab.output.renderOutput(dataTable, element);\n",
              "          const docLink = document.createElement('div');\n",
              "          docLink.innerHTML = docLinkHtml;\n",
              "          element.appendChild(docLink);\n",
              "        }\n",
              "      </script>\n",
              "    </div>\n",
              "  </div>\n",
              "  "
            ]
          },
          "metadata": {},
          "execution_count": 3
        }
      ]
    },
    {
      "cell_type": "code",
      "source": [
        "ind = y[y==0].index"
      ],
      "metadata": {
        "id": "YU3d0J9fnq62"
      },
      "execution_count": 4,
      "outputs": []
    },
    {
      "cell_type": "code",
      "source": [
        "X.drop(index=ind,inplace=True)"
      ],
      "metadata": {
        "id": "O6HLvcTZn5wB"
      },
      "execution_count": 5,
      "outputs": []
    },
    {
      "cell_type": "code",
      "source": [
        "X.reset_index(drop=True,inplace=True)"
      ],
      "metadata": {
        "id": "aT4bHdakoyFH"
      },
      "execution_count": 6,
      "outputs": []
    },
    {
      "cell_type": "code",
      "source": [
        "X"
      ],
      "metadata": {
        "colab": {
          "base_uri": "https://localhost:8080/",
          "height": 423
        },
        "id": "aIW-r84Bo-KL",
        "outputId": "1a8c34ae-e618-4925-bc64-4e1e189dab48"
      },
      "execution_count": 7,
      "outputs": [
        {
          "output_type": "execute_result",
          "data": {
            "text/plain": [
              "    sepal length (cm)  sepal width (cm)  petal length (cm)  petal width (cm)\n",
              "0                 7.0               3.2                4.7               1.4\n",
              "1                 6.4               3.2                4.5               1.5\n",
              "2                 6.9               3.1                4.9               1.5\n",
              "3                 5.5               2.3                4.0               1.3\n",
              "4                 6.5               2.8                4.6               1.5\n",
              "..                ...               ...                ...               ...\n",
              "95                6.7               3.0                5.2               2.3\n",
              "96                6.3               2.5                5.0               1.9\n",
              "97                6.5               3.0                5.2               2.0\n",
              "98                6.2               3.4                5.4               2.3\n",
              "99                5.9               3.0                5.1               1.8\n",
              "\n",
              "[100 rows x 4 columns]"
            ],
            "text/html": [
              "\n",
              "  <div id=\"df-5b112f22-a15b-4df6-954e-2161861e419a\">\n",
              "    <div class=\"colab-df-container\">\n",
              "      <div>\n",
              "<style scoped>\n",
              "    .dataframe tbody tr th:only-of-type {\n",
              "        vertical-align: middle;\n",
              "    }\n",
              "\n",
              "    .dataframe tbody tr th {\n",
              "        vertical-align: top;\n",
              "    }\n",
              "\n",
              "    .dataframe thead th {\n",
              "        text-align: right;\n",
              "    }\n",
              "</style>\n",
              "<table border=\"1\" class=\"dataframe\">\n",
              "  <thead>\n",
              "    <tr style=\"text-align: right;\">\n",
              "      <th></th>\n",
              "      <th>sepal length (cm)</th>\n",
              "      <th>sepal width (cm)</th>\n",
              "      <th>petal length (cm)</th>\n",
              "      <th>petal width (cm)</th>\n",
              "    </tr>\n",
              "  </thead>\n",
              "  <tbody>\n",
              "    <tr>\n",
              "      <th>0</th>\n",
              "      <td>7.0</td>\n",
              "      <td>3.2</td>\n",
              "      <td>4.7</td>\n",
              "      <td>1.4</td>\n",
              "    </tr>\n",
              "    <tr>\n",
              "      <th>1</th>\n",
              "      <td>6.4</td>\n",
              "      <td>3.2</td>\n",
              "      <td>4.5</td>\n",
              "      <td>1.5</td>\n",
              "    </tr>\n",
              "    <tr>\n",
              "      <th>2</th>\n",
              "      <td>6.9</td>\n",
              "      <td>3.1</td>\n",
              "      <td>4.9</td>\n",
              "      <td>1.5</td>\n",
              "    </tr>\n",
              "    <tr>\n",
              "      <th>3</th>\n",
              "      <td>5.5</td>\n",
              "      <td>2.3</td>\n",
              "      <td>4.0</td>\n",
              "      <td>1.3</td>\n",
              "    </tr>\n",
              "    <tr>\n",
              "      <th>4</th>\n",
              "      <td>6.5</td>\n",
              "      <td>2.8</td>\n",
              "      <td>4.6</td>\n",
              "      <td>1.5</td>\n",
              "    </tr>\n",
              "    <tr>\n",
              "      <th>...</th>\n",
              "      <td>...</td>\n",
              "      <td>...</td>\n",
              "      <td>...</td>\n",
              "      <td>...</td>\n",
              "    </tr>\n",
              "    <tr>\n",
              "      <th>95</th>\n",
              "      <td>6.7</td>\n",
              "      <td>3.0</td>\n",
              "      <td>5.2</td>\n",
              "      <td>2.3</td>\n",
              "    </tr>\n",
              "    <tr>\n",
              "      <th>96</th>\n",
              "      <td>6.3</td>\n",
              "      <td>2.5</td>\n",
              "      <td>5.0</td>\n",
              "      <td>1.9</td>\n",
              "    </tr>\n",
              "    <tr>\n",
              "      <th>97</th>\n",
              "      <td>6.5</td>\n",
              "      <td>3.0</td>\n",
              "      <td>5.2</td>\n",
              "      <td>2.0</td>\n",
              "    </tr>\n",
              "    <tr>\n",
              "      <th>98</th>\n",
              "      <td>6.2</td>\n",
              "      <td>3.4</td>\n",
              "      <td>5.4</td>\n",
              "      <td>2.3</td>\n",
              "    </tr>\n",
              "    <tr>\n",
              "      <th>99</th>\n",
              "      <td>5.9</td>\n",
              "      <td>3.0</td>\n",
              "      <td>5.1</td>\n",
              "      <td>1.8</td>\n",
              "    </tr>\n",
              "  </tbody>\n",
              "</table>\n",
              "<p>100 rows × 4 columns</p>\n",
              "</div>\n",
              "      <button class=\"colab-df-convert\" onclick=\"convertToInteractive('df-5b112f22-a15b-4df6-954e-2161861e419a')\"\n",
              "              title=\"Convert this dataframe to an interactive table.\"\n",
              "              style=\"display:none;\">\n",
              "        \n",
              "  <svg xmlns=\"http://www.w3.org/2000/svg\" height=\"24px\"viewBox=\"0 0 24 24\"\n",
              "       width=\"24px\">\n",
              "    <path d=\"M0 0h24v24H0V0z\" fill=\"none\"/>\n",
              "    <path d=\"M18.56 5.44l.94 2.06.94-2.06 2.06-.94-2.06-.94-.94-2.06-.94 2.06-2.06.94zm-11 1L8.5 8.5l.94-2.06 2.06-.94-2.06-.94L8.5 2.5l-.94 2.06-2.06.94zm10 10l.94 2.06.94-2.06 2.06-.94-2.06-.94-.94-2.06-.94 2.06-2.06.94z\"/><path d=\"M17.41 7.96l-1.37-1.37c-.4-.4-.92-.59-1.43-.59-.52 0-1.04.2-1.43.59L10.3 9.45l-7.72 7.72c-.78.78-.78 2.05 0 2.83L4 21.41c.39.39.9.59 1.41.59.51 0 1.02-.2 1.41-.59l7.78-7.78 2.81-2.81c.8-.78.8-2.07 0-2.86zM5.41 20L4 18.59l7.72-7.72 1.47 1.35L5.41 20z\"/>\n",
              "  </svg>\n",
              "      </button>\n",
              "      \n",
              "  <style>\n",
              "    .colab-df-container {\n",
              "      display:flex;\n",
              "      flex-wrap:wrap;\n",
              "      gap: 12px;\n",
              "    }\n",
              "\n",
              "    .colab-df-convert {\n",
              "      background-color: #E8F0FE;\n",
              "      border: none;\n",
              "      border-radius: 50%;\n",
              "      cursor: pointer;\n",
              "      display: none;\n",
              "      fill: #1967D2;\n",
              "      height: 32px;\n",
              "      padding: 0 0 0 0;\n",
              "      width: 32px;\n",
              "    }\n",
              "\n",
              "    .colab-df-convert:hover {\n",
              "      background-color: #E2EBFA;\n",
              "      box-shadow: 0px 1px 2px rgba(60, 64, 67, 0.3), 0px 1px 3px 1px rgba(60, 64, 67, 0.15);\n",
              "      fill: #174EA6;\n",
              "    }\n",
              "\n",
              "    [theme=dark] .colab-df-convert {\n",
              "      background-color: #3B4455;\n",
              "      fill: #D2E3FC;\n",
              "    }\n",
              "\n",
              "    [theme=dark] .colab-df-convert:hover {\n",
              "      background-color: #434B5C;\n",
              "      box-shadow: 0px 1px 3px 1px rgba(0, 0, 0, 0.15);\n",
              "      filter: drop-shadow(0px 1px 2px rgba(0, 0, 0, 0.3));\n",
              "      fill: #FFFFFF;\n",
              "    }\n",
              "  </style>\n",
              "\n",
              "      <script>\n",
              "        const buttonEl =\n",
              "          document.querySelector('#df-5b112f22-a15b-4df6-954e-2161861e419a button.colab-df-convert');\n",
              "        buttonEl.style.display =\n",
              "          google.colab.kernel.accessAllowed ? 'block' : 'none';\n",
              "\n",
              "        async function convertToInteractive(key) {\n",
              "          const element = document.querySelector('#df-5b112f22-a15b-4df6-954e-2161861e419a');\n",
              "          const dataTable =\n",
              "            await google.colab.kernel.invokeFunction('convertToInteractive',\n",
              "                                                     [key], {});\n",
              "          if (!dataTable) return;\n",
              "\n",
              "          const docLinkHtml = 'Like what you see? Visit the ' +\n",
              "            '<a target=\"_blank\" href=https://colab.research.google.com/notebooks/data_table.ipynb>data table notebook</a>'\n",
              "            + ' to learn more about interactive tables.';\n",
              "          element.innerHTML = '';\n",
              "          dataTable['output_type'] = 'display_data';\n",
              "          await google.colab.output.renderOutput(dataTable, element);\n",
              "          const docLink = document.createElement('div');\n",
              "          docLink.innerHTML = docLinkHtml;\n",
              "          element.appendChild(docLink);\n",
              "        }\n",
              "      </script>\n",
              "    </div>\n",
              "  </div>\n",
              "  "
            ]
          },
          "metadata": {},
          "execution_count": 7
        }
      ]
    },
    {
      "cell_type": "code",
      "source": [
        "y.drop(index=y[y == 0].index,inplace=True)"
      ],
      "metadata": {
        "id": "LOZJGNDXnHkr"
      },
      "execution_count": 8,
      "outputs": []
    },
    {
      "cell_type": "code",
      "source": [
        "y.reset_index(drop=True,inplace=True)"
      ],
      "metadata": {
        "id": "PatNU0DZnrj0"
      },
      "execution_count": 9,
      "outputs": []
    },
    {
      "cell_type": "code",
      "source": [
        "y"
      ],
      "metadata": {
        "colab": {
          "base_uri": "https://localhost:8080/"
        },
        "id": "dMHnB0BWpPO2",
        "outputId": "6e34d185-8e7f-4684-e2ef-9bfddb3d06af"
      },
      "execution_count": 10,
      "outputs": [
        {
          "output_type": "execute_result",
          "data": {
            "text/plain": [
              "0     1\n",
              "1     1\n",
              "2     1\n",
              "3     1\n",
              "4     1\n",
              "     ..\n",
              "95    2\n",
              "96    2\n",
              "97    2\n",
              "98    2\n",
              "99    2\n",
              "Name: target, Length: 100, dtype: int64"
            ]
          },
          "metadata": {},
          "execution_count": 10
        }
      ]
    },
    {
      "cell_type": "code",
      "source": [
        "y = np.where(y == 1,0,1)"
      ],
      "metadata": {
        "id": "F0MhzxifpUx_"
      },
      "execution_count": 11,
      "outputs": []
    },
    {
      "cell_type": "code",
      "source": [
        "y = pd.Series(y,name='target')"
      ],
      "metadata": {
        "id": "4TuVXbzRpdKk"
      },
      "execution_count": 12,
      "outputs": []
    },
    {
      "cell_type": "code",
      "source": [
        "y_temp = np.where(y==0,'Versicolor','Virginica')\n",
        "y_temp = pd.Series(y_temp)"
      ],
      "metadata": {
        "id": "4CV-L5pWsYQh"
      },
      "execution_count": 13,
      "outputs": []
    },
    {
      "cell_type": "code",
      "source": [
        "temp_df = pd.concat([X,y],axis=1)\n",
        "temp_df"
      ],
      "metadata": {
        "colab": {
          "base_uri": "https://localhost:8080/",
          "height": 423
        },
        "id": "2BOv0CSpxOJA",
        "outputId": "bf23677d-aeee-4302-87d0-60069db76dfd"
      },
      "execution_count": 14,
      "outputs": [
        {
          "output_type": "execute_result",
          "data": {
            "text/plain": [
              "    sepal length (cm)  sepal width (cm)  petal length (cm)  petal width (cm)  \\\n",
              "0                 7.0               3.2                4.7               1.4   \n",
              "1                 6.4               3.2                4.5               1.5   \n",
              "2                 6.9               3.1                4.9               1.5   \n",
              "3                 5.5               2.3                4.0               1.3   \n",
              "4                 6.5               2.8                4.6               1.5   \n",
              "..                ...               ...                ...               ...   \n",
              "95                6.7               3.0                5.2               2.3   \n",
              "96                6.3               2.5                5.0               1.9   \n",
              "97                6.5               3.0                5.2               2.0   \n",
              "98                6.2               3.4                5.4               2.3   \n",
              "99                5.9               3.0                5.1               1.8   \n",
              "\n",
              "    target  \n",
              "0        0  \n",
              "1        0  \n",
              "2        0  \n",
              "3        0  \n",
              "4        0  \n",
              "..     ...  \n",
              "95       1  \n",
              "96       1  \n",
              "97       1  \n",
              "98       1  \n",
              "99       1  \n",
              "\n",
              "[100 rows x 5 columns]"
            ],
            "text/html": [
              "\n",
              "  <div id=\"df-7790fa28-6026-46ae-93aa-3ec7baf5c7a5\">\n",
              "    <div class=\"colab-df-container\">\n",
              "      <div>\n",
              "<style scoped>\n",
              "    .dataframe tbody tr th:only-of-type {\n",
              "        vertical-align: middle;\n",
              "    }\n",
              "\n",
              "    .dataframe tbody tr th {\n",
              "        vertical-align: top;\n",
              "    }\n",
              "\n",
              "    .dataframe thead th {\n",
              "        text-align: right;\n",
              "    }\n",
              "</style>\n",
              "<table border=\"1\" class=\"dataframe\">\n",
              "  <thead>\n",
              "    <tr style=\"text-align: right;\">\n",
              "      <th></th>\n",
              "      <th>sepal length (cm)</th>\n",
              "      <th>sepal width (cm)</th>\n",
              "      <th>petal length (cm)</th>\n",
              "      <th>petal width (cm)</th>\n",
              "      <th>target</th>\n",
              "    </tr>\n",
              "  </thead>\n",
              "  <tbody>\n",
              "    <tr>\n",
              "      <th>0</th>\n",
              "      <td>7.0</td>\n",
              "      <td>3.2</td>\n",
              "      <td>4.7</td>\n",
              "      <td>1.4</td>\n",
              "      <td>0</td>\n",
              "    </tr>\n",
              "    <tr>\n",
              "      <th>1</th>\n",
              "      <td>6.4</td>\n",
              "      <td>3.2</td>\n",
              "      <td>4.5</td>\n",
              "      <td>1.5</td>\n",
              "      <td>0</td>\n",
              "    </tr>\n",
              "    <tr>\n",
              "      <th>2</th>\n",
              "      <td>6.9</td>\n",
              "      <td>3.1</td>\n",
              "      <td>4.9</td>\n",
              "      <td>1.5</td>\n",
              "      <td>0</td>\n",
              "    </tr>\n",
              "    <tr>\n",
              "      <th>3</th>\n",
              "      <td>5.5</td>\n",
              "      <td>2.3</td>\n",
              "      <td>4.0</td>\n",
              "      <td>1.3</td>\n",
              "      <td>0</td>\n",
              "    </tr>\n",
              "    <tr>\n",
              "      <th>4</th>\n",
              "      <td>6.5</td>\n",
              "      <td>2.8</td>\n",
              "      <td>4.6</td>\n",
              "      <td>1.5</td>\n",
              "      <td>0</td>\n",
              "    </tr>\n",
              "    <tr>\n",
              "      <th>...</th>\n",
              "      <td>...</td>\n",
              "      <td>...</td>\n",
              "      <td>...</td>\n",
              "      <td>...</td>\n",
              "      <td>...</td>\n",
              "    </tr>\n",
              "    <tr>\n",
              "      <th>95</th>\n",
              "      <td>6.7</td>\n",
              "      <td>3.0</td>\n",
              "      <td>5.2</td>\n",
              "      <td>2.3</td>\n",
              "      <td>1</td>\n",
              "    </tr>\n",
              "    <tr>\n",
              "      <th>96</th>\n",
              "      <td>6.3</td>\n",
              "      <td>2.5</td>\n",
              "      <td>5.0</td>\n",
              "      <td>1.9</td>\n",
              "      <td>1</td>\n",
              "    </tr>\n",
              "    <tr>\n",
              "      <th>97</th>\n",
              "      <td>6.5</td>\n",
              "      <td>3.0</td>\n",
              "      <td>5.2</td>\n",
              "      <td>2.0</td>\n",
              "      <td>1</td>\n",
              "    </tr>\n",
              "    <tr>\n",
              "      <th>98</th>\n",
              "      <td>6.2</td>\n",
              "      <td>3.4</td>\n",
              "      <td>5.4</td>\n",
              "      <td>2.3</td>\n",
              "      <td>1</td>\n",
              "    </tr>\n",
              "    <tr>\n",
              "      <th>99</th>\n",
              "      <td>5.9</td>\n",
              "      <td>3.0</td>\n",
              "      <td>5.1</td>\n",
              "      <td>1.8</td>\n",
              "      <td>1</td>\n",
              "    </tr>\n",
              "  </tbody>\n",
              "</table>\n",
              "<p>100 rows × 5 columns</p>\n",
              "</div>\n",
              "      <button class=\"colab-df-convert\" onclick=\"convertToInteractive('df-7790fa28-6026-46ae-93aa-3ec7baf5c7a5')\"\n",
              "              title=\"Convert this dataframe to an interactive table.\"\n",
              "              style=\"display:none;\">\n",
              "        \n",
              "  <svg xmlns=\"http://www.w3.org/2000/svg\" height=\"24px\"viewBox=\"0 0 24 24\"\n",
              "       width=\"24px\">\n",
              "    <path d=\"M0 0h24v24H0V0z\" fill=\"none\"/>\n",
              "    <path d=\"M18.56 5.44l.94 2.06.94-2.06 2.06-.94-2.06-.94-.94-2.06-.94 2.06-2.06.94zm-11 1L8.5 8.5l.94-2.06 2.06-.94-2.06-.94L8.5 2.5l-.94 2.06-2.06.94zm10 10l.94 2.06.94-2.06 2.06-.94-2.06-.94-.94-2.06-.94 2.06-2.06.94z\"/><path d=\"M17.41 7.96l-1.37-1.37c-.4-.4-.92-.59-1.43-.59-.52 0-1.04.2-1.43.59L10.3 9.45l-7.72 7.72c-.78.78-.78 2.05 0 2.83L4 21.41c.39.39.9.59 1.41.59.51 0 1.02-.2 1.41-.59l7.78-7.78 2.81-2.81c.8-.78.8-2.07 0-2.86zM5.41 20L4 18.59l7.72-7.72 1.47 1.35L5.41 20z\"/>\n",
              "  </svg>\n",
              "      </button>\n",
              "      \n",
              "  <style>\n",
              "    .colab-df-container {\n",
              "      display:flex;\n",
              "      flex-wrap:wrap;\n",
              "      gap: 12px;\n",
              "    }\n",
              "\n",
              "    .colab-df-convert {\n",
              "      background-color: #E8F0FE;\n",
              "      border: none;\n",
              "      border-radius: 50%;\n",
              "      cursor: pointer;\n",
              "      display: none;\n",
              "      fill: #1967D2;\n",
              "      height: 32px;\n",
              "      padding: 0 0 0 0;\n",
              "      width: 32px;\n",
              "    }\n",
              "\n",
              "    .colab-df-convert:hover {\n",
              "      background-color: #E2EBFA;\n",
              "      box-shadow: 0px 1px 2px rgba(60, 64, 67, 0.3), 0px 1px 3px 1px rgba(60, 64, 67, 0.15);\n",
              "      fill: #174EA6;\n",
              "    }\n",
              "\n",
              "    [theme=dark] .colab-df-convert {\n",
              "      background-color: #3B4455;\n",
              "      fill: #D2E3FC;\n",
              "    }\n",
              "\n",
              "    [theme=dark] .colab-df-convert:hover {\n",
              "      background-color: #434B5C;\n",
              "      box-shadow: 0px 1px 3px 1px rgba(0, 0, 0, 0.15);\n",
              "      filter: drop-shadow(0px 1px 2px rgba(0, 0, 0, 0.3));\n",
              "      fill: #FFFFFF;\n",
              "    }\n",
              "  </style>\n",
              "\n",
              "      <script>\n",
              "        const buttonEl =\n",
              "          document.querySelector('#df-7790fa28-6026-46ae-93aa-3ec7baf5c7a5 button.colab-df-convert');\n",
              "        buttonEl.style.display =\n",
              "          google.colab.kernel.accessAllowed ? 'block' : 'none';\n",
              "\n",
              "        async function convertToInteractive(key) {\n",
              "          const element = document.querySelector('#df-7790fa28-6026-46ae-93aa-3ec7baf5c7a5');\n",
              "          const dataTable =\n",
              "            await google.colab.kernel.invokeFunction('convertToInteractive',\n",
              "                                                     [key], {});\n",
              "          if (!dataTable) return;\n",
              "\n",
              "          const docLinkHtml = 'Like what you see? Visit the ' +\n",
              "            '<a target=\"_blank\" href=https://colab.research.google.com/notebooks/data_table.ipynb>data table notebook</a>'\n",
              "            + ' to learn more about interactive tables.';\n",
              "          element.innerHTML = '';\n",
              "          dataTable['output_type'] = 'display_data';\n",
              "          await google.colab.output.renderOutput(dataTable, element);\n",
              "          const docLink = document.createElement('div');\n",
              "          docLink.innerHTML = docLinkHtml;\n",
              "          element.appendChild(docLink);\n",
              "        }\n",
              "      </script>\n",
              "    </div>\n",
              "  </div>\n",
              "  "
            ]
          },
          "metadata": {},
          "execution_count": 14
        }
      ]
    },
    {
      "cell_type": "code",
      "source": [
        "X = X.drop(columns=X.columns[2:])"
      ],
      "metadata": {
        "id": "1EqtBHLzskq4"
      },
      "execution_count": 15,
      "outputs": []
    },
    {
      "cell_type": "markdown",
      "source": [
        "## Voting classifier for different models"
      ],
      "metadata": {
        "id": "rFSCaZzU6MGq"
      }
    },
    {
      "cell_type": "code",
      "source": [
        "from sklearn.linear_model import LogisticRegression\n",
        "from sklearn.svm import SVC\n",
        "from sklearn.tree import DecisionTreeClassifier\n",
        "# make instances of models\n",
        "\n",
        "lr = LogisticRegression()\n",
        "svm = SVC(probability=True)\n",
        "dt = DecisionTreeClassifier()\n",
        "\n",
        "estimators = [('lr',lr),('svm',svm),('dt',dt)]"
      ],
      "metadata": {
        "id": "qxMJKP61xyX6"
      },
      "execution_count": 16,
      "outputs": []
    },
    {
      "cell_type": "code",
      "source": [
        "for i in range(3):\n",
        "    score = cross_val_score(estimators[i][1],X,y,cv=10,scoring='accuracy')\n",
        "    print(f'The accuracy score for {estimators[i][0]} is', np.mean(score))\n"
      ],
      "metadata": {
        "colab": {
          "base_uri": "https://localhost:8080/"
        },
        "id": "_9QxCmJTyjxW",
        "outputId": "2d20ef32-232b-4aef-9fe9-644b5eee93a3"
      },
      "execution_count": 17,
      "outputs": [
        {
          "output_type": "stream",
          "name": "stdout",
          "text": [
            "The accuracy score for lr is 0.75\n",
            "The accuracy score for svm is 0.74\n",
            "The accuracy score for dt is 0.53\n"
          ]
        }
      ]
    },
    {
      "cell_type": "code",
      "source": [
        "# build a voting classifier\n",
        "from sklearn.ensemble import VotingClassifier\n",
        "\n",
        "vc = VotingClassifier(estimators)\n",
        "score = cross_val_score(vc,X,y,cv=10,scoring='accuracy')\n",
        "print(f'The accuracy score for vc hard is', np.mean(score))"
      ],
      "metadata": {
        "colab": {
          "base_uri": "https://localhost:8080/"
        },
        "id": "DnfFB490zLnu",
        "outputId": "94947b67-e2ce-49db-ff60-c9af23557916"
      },
      "execution_count": 18,
      "outputs": [
        {
          "output_type": "stream",
          "name": "stdout",
          "text": [
            "The accuracy score for vc hard is 0.75\n"
          ]
        }
      ]
    },
    {
      "cell_type": "code",
      "source": [
        "# build a voting classifier\n",
        "from sklearn.ensemble import VotingClassifier\n",
        "lr = LogisticRegression()\n",
        "svm = SVC(probability=True)\n",
        "dt = DecisionTreeClassifier()\n",
        "\n",
        "estimators = [('lr',lr),('svm',svm),('dt',dt)]\n",
        "\n",
        "vc = VotingClassifier(estimators,voting='soft')\n",
        "score = cross_val_score(vc,X,y,cv=10,scoring='accuracy')\n",
        "print(f'The accuracy score for vc soft is', np.mean(score))"
      ],
      "metadata": {
        "colab": {
          "base_uri": "https://localhost:8080/"
        },
        "id": "J9C60xim2rJs",
        "outputId": "051f7dc7-aba1-4dd7-dec3-223c1ff5c70c"
      },
      "execution_count": 19,
      "outputs": [
        {
          "output_type": "stream",
          "name": "stdout",
          "text": [
            "The accuracy score for vc soft is 0.61\n"
          ]
        }
      ]
    },
    {
      "cell_type": "markdown",
      "source": [
        "## Weighted voting classifier "
      ],
      "metadata": {
        "id": "IdkakjLK6WqV"
      }
    },
    {
      "cell_type": "code",
      "source": [
        "# choose weightage of different models\n",
        "max = 0\n",
        "for i in range(1,6):\n",
        "    for j in range(1,6):\n",
        "        for k in range(1,6):\n",
        "            vc = VotingClassifier(estimators,weights=[i,j,k])\n",
        "            score = cross_val_score(vc,X,y,cv=10,scoring='accuracy')\n",
        "            print(f'The weight of lr is {i}, svm is {j}, dt is {k} and accuracy is {np.mean(score)} ')\n",
        "            if np.mean(score) > max:\n",
        "                max = np.mean(score)\n",
        "            else:\n",
        "                pass\n",
        "print('The maximum score is',max)"
      ],
      "metadata": {
        "colab": {
          "base_uri": "https://localhost:8080/"
        },
        "id": "Yr1Efyv13j_b",
        "outputId": "3097bdd0-ddf3-409c-9e89-e90d17d1675e"
      },
      "execution_count": 20,
      "outputs": [
        {
          "output_type": "stream",
          "name": "stdout",
          "text": [
            "The weight of lr is 1, svm is 1, dt is 1 and accuracy is 0.75 \n",
            "The weight of lr is 1, svm is 1, dt is 2 and accuracy is 0.68 \n",
            "The weight of lr is 1, svm is 1, dt is 3 and accuracy is 0.54 \n",
            "The weight of lr is 1, svm is 1, dt is 4 and accuracy is 0.53 \n",
            "The weight of lr is 1, svm is 1, dt is 5 and accuracy is 0.54 \n",
            "The weight of lr is 1, svm is 2, dt is 1 and accuracy is 0.74 \n",
            "The weight of lr is 1, svm is 2, dt is 2 and accuracy is 0.75 \n",
            "The weight of lr is 1, svm is 2, dt is 3 and accuracy is 0.7 \n",
            "The weight of lr is 1, svm is 2, dt is 4 and accuracy is 0.54 \n",
            "The weight of lr is 1, svm is 2, dt is 5 and accuracy is 0.55 \n",
            "The weight of lr is 1, svm is 3, dt is 1 and accuracy is 0.74 \n",
            "The weight of lr is 1, svm is 3, dt is 2 and accuracy is 0.74 \n",
            "The weight of lr is 1, svm is 3, dt is 3 and accuracy is 0.75 \n",
            "The weight of lr is 1, svm is 3, dt is 4 and accuracy is 0.7 \n",
            "The weight of lr is 1, svm is 3, dt is 5 and accuracy is 0.55 \n",
            "The weight of lr is 1, svm is 4, dt is 1 and accuracy is 0.74 \n",
            "The weight of lr is 1, svm is 4, dt is 2 and accuracy is 0.74 \n",
            "The weight of lr is 1, svm is 4, dt is 3 and accuracy is 0.74 \n",
            "The weight of lr is 1, svm is 4, dt is 4 and accuracy is 0.75 \n",
            "The weight of lr is 1, svm is 4, dt is 5 and accuracy is 0.6900000000000001 \n",
            "The weight of lr is 1, svm is 5, dt is 1 and accuracy is 0.74 \n",
            "The weight of lr is 1, svm is 5, dt is 2 and accuracy is 0.74 \n",
            "The weight of lr is 1, svm is 5, dt is 3 and accuracy is 0.74 \n",
            "The weight of lr is 1, svm is 5, dt is 4 and accuracy is 0.74 \n",
            "The weight of lr is 1, svm is 5, dt is 5 and accuracy is 0.75 \n",
            "The weight of lr is 2, svm is 1, dt is 1 and accuracy is 0.75 \n",
            "The weight of lr is 2, svm is 1, dt is 2 and accuracy is 0.75 \n",
            "The weight of lr is 2, svm is 1, dt is 3 and accuracy is 0.7 \n",
            "The weight of lr is 2, svm is 1, dt is 4 and accuracy is 0.55 \n",
            "The weight of lr is 2, svm is 1, dt is 5 and accuracy is 0.5599999999999999 \n",
            "The weight of lr is 2, svm is 2, dt is 1 and accuracy is 0.75 \n",
            "The weight of lr is 2, svm is 2, dt is 2 and accuracy is 0.75 \n",
            "The weight of lr is 2, svm is 2, dt is 3 and accuracy is 0.75 \n",
            "The weight of lr is 2, svm is 2, dt is 4 and accuracy is 0.6700000000000002 \n",
            "The weight of lr is 2, svm is 2, dt is 5 and accuracy is 0.5599999999999999 \n",
            "The weight of lr is 2, svm is 3, dt is 1 and accuracy is 0.74 \n",
            "The weight of lr is 2, svm is 3, dt is 2 and accuracy is 0.75 \n",
            "The weight of lr is 2, svm is 3, dt is 3 and accuracy is 0.75 \n",
            "The weight of lr is 2, svm is 3, dt is 4 and accuracy is 0.75 \n",
            "The weight of lr is 2, svm is 3, dt is 5 and accuracy is 0.6900000000000001 \n",
            "The weight of lr is 2, svm is 4, dt is 1 and accuracy is 0.74 \n",
            "The weight of lr is 2, svm is 4, dt is 2 and accuracy is 0.74 \n",
            "The weight of lr is 2, svm is 4, dt is 3 and accuracy is 0.75 \n",
            "The weight of lr is 2, svm is 4, dt is 4 and accuracy is 0.75 \n",
            "The weight of lr is 2, svm is 4, dt is 5 and accuracy is 0.75 \n",
            "The weight of lr is 2, svm is 5, dt is 1 and accuracy is 0.74 \n",
            "The weight of lr is 2, svm is 5, dt is 2 and accuracy is 0.74 \n",
            "The weight of lr is 2, svm is 5, dt is 3 and accuracy is 0.74 \n",
            "The weight of lr is 2, svm is 5, dt is 4 and accuracy is 0.75 \n",
            "The weight of lr is 2, svm is 5, dt is 5 and accuracy is 0.75 \n",
            "The weight of lr is 3, svm is 1, dt is 1 and accuracy is 0.75 \n",
            "The weight of lr is 3, svm is 1, dt is 2 and accuracy is 0.75 \n",
            "The weight of lr is 3, svm is 1, dt is 3 and accuracy is 0.75 \n",
            "The weight of lr is 3, svm is 1, dt is 4 and accuracy is 0.68 \n",
            "The weight of lr is 3, svm is 1, dt is 5 and accuracy is 0.55 \n",
            "The weight of lr is 3, svm is 2, dt is 1 and accuracy is 0.75 \n",
            "The weight of lr is 3, svm is 2, dt is 2 and accuracy is 0.75 \n",
            "The weight of lr is 3, svm is 2, dt is 3 and accuracy is 0.75 \n",
            "The weight of lr is 3, svm is 2, dt is 4 and accuracy is 0.75 \n",
            "The weight of lr is 3, svm is 2, dt is 5 and accuracy is 0.68 \n",
            "The weight of lr is 3, svm is 3, dt is 1 and accuracy is 0.75 \n",
            "The weight of lr is 3, svm is 3, dt is 2 and accuracy is 0.75 \n",
            "The weight of lr is 3, svm is 3, dt is 3 and accuracy is 0.75 \n",
            "The weight of lr is 3, svm is 3, dt is 4 and accuracy is 0.75 \n",
            "The weight of lr is 3, svm is 3, dt is 5 and accuracy is 0.75 \n",
            "The weight of lr is 3, svm is 4, dt is 1 and accuracy is 0.74 \n",
            "The weight of lr is 3, svm is 4, dt is 2 and accuracy is 0.75 \n",
            "The weight of lr is 3, svm is 4, dt is 3 and accuracy is 0.75 \n",
            "The weight of lr is 3, svm is 4, dt is 4 and accuracy is 0.75 \n",
            "The weight of lr is 3, svm is 4, dt is 5 and accuracy is 0.75 \n",
            "The weight of lr is 3, svm is 5, dt is 1 and accuracy is 0.74 \n",
            "The weight of lr is 3, svm is 5, dt is 2 and accuracy is 0.74 \n",
            "The weight of lr is 3, svm is 5, dt is 3 and accuracy is 0.75 \n",
            "The weight of lr is 3, svm is 5, dt is 4 and accuracy is 0.75 \n",
            "The weight of lr is 3, svm is 5, dt is 5 and accuracy is 0.75 \n",
            "The weight of lr is 4, svm is 1, dt is 1 and accuracy is 0.75 \n",
            "The weight of lr is 4, svm is 1, dt is 2 and accuracy is 0.75 \n",
            "The weight of lr is 4, svm is 1, dt is 3 and accuracy is 0.75 \n",
            "The weight of lr is 4, svm is 1, dt is 4 and accuracy is 0.75 \n",
            "The weight of lr is 4, svm is 1, dt is 5 and accuracy is 0.6900000000000001 \n",
            "The weight of lr is 4, svm is 2, dt is 1 and accuracy is 0.75 \n",
            "The weight of lr is 4, svm is 2, dt is 2 and accuracy is 0.75 \n",
            "The weight of lr is 4, svm is 2, dt is 3 and accuracy is 0.75 \n",
            "The weight of lr is 4, svm is 2, dt is 4 and accuracy is 0.75 \n",
            "The weight of lr is 4, svm is 2, dt is 5 and accuracy is 0.75 \n",
            "The weight of lr is 4, svm is 3, dt is 1 and accuracy is 0.75 \n",
            "The weight of lr is 4, svm is 3, dt is 2 and accuracy is 0.75 \n",
            "The weight of lr is 4, svm is 3, dt is 3 and accuracy is 0.75 \n",
            "The weight of lr is 4, svm is 3, dt is 4 and accuracy is 0.75 \n",
            "The weight of lr is 4, svm is 3, dt is 5 and accuracy is 0.75 \n",
            "The weight of lr is 4, svm is 4, dt is 1 and accuracy is 0.75 \n",
            "The weight of lr is 4, svm is 4, dt is 2 and accuracy is 0.75 \n",
            "The weight of lr is 4, svm is 4, dt is 3 and accuracy is 0.75 \n",
            "The weight of lr is 4, svm is 4, dt is 4 and accuracy is 0.75 \n",
            "The weight of lr is 4, svm is 4, dt is 5 and accuracy is 0.75 \n",
            "The weight of lr is 4, svm is 5, dt is 1 and accuracy is 0.74 \n",
            "The weight of lr is 4, svm is 5, dt is 2 and accuracy is 0.75 \n",
            "The weight of lr is 4, svm is 5, dt is 3 and accuracy is 0.75 \n",
            "The weight of lr is 4, svm is 5, dt is 4 and accuracy is 0.75 \n",
            "The weight of lr is 4, svm is 5, dt is 5 and accuracy is 0.75 \n",
            "The weight of lr is 5, svm is 1, dt is 1 and accuracy is 0.75 \n",
            "The weight of lr is 5, svm is 1, dt is 2 and accuracy is 0.75 \n",
            "The weight of lr is 5, svm is 1, dt is 3 and accuracy is 0.75 \n",
            "The weight of lr is 5, svm is 1, dt is 4 and accuracy is 0.75 \n",
            "The weight of lr is 5, svm is 1, dt is 5 and accuracy is 0.75 \n",
            "The weight of lr is 5, svm is 2, dt is 1 and accuracy is 0.75 \n",
            "The weight of lr is 5, svm is 2, dt is 2 and accuracy is 0.75 \n",
            "The weight of lr is 5, svm is 2, dt is 3 and accuracy is 0.75 \n",
            "The weight of lr is 5, svm is 2, dt is 4 and accuracy is 0.75 \n",
            "The weight of lr is 5, svm is 2, dt is 5 and accuracy is 0.75 \n",
            "The weight of lr is 5, svm is 3, dt is 1 and accuracy is 0.75 \n",
            "The weight of lr is 5, svm is 3, dt is 2 and accuracy is 0.75 \n",
            "The weight of lr is 5, svm is 3, dt is 3 and accuracy is 0.75 \n",
            "The weight of lr is 5, svm is 3, dt is 4 and accuracy is 0.75 \n",
            "The weight of lr is 5, svm is 3, dt is 5 and accuracy is 0.75 \n",
            "The weight of lr is 5, svm is 4, dt is 1 and accuracy is 0.75 \n",
            "The weight of lr is 5, svm is 4, dt is 2 and accuracy is 0.75 \n",
            "The weight of lr is 5, svm is 4, dt is 3 and accuracy is 0.75 \n",
            "The weight of lr is 5, svm is 4, dt is 4 and accuracy is 0.75 \n",
            "The weight of lr is 5, svm is 4, dt is 5 and accuracy is 0.75 \n",
            "The weight of lr is 5, svm is 5, dt is 1 and accuracy is 0.75 \n",
            "The weight of lr is 5, svm is 5, dt is 2 and accuracy is 0.75 \n",
            "The weight of lr is 5, svm is 5, dt is 3 and accuracy is 0.75 \n",
            "The weight of lr is 5, svm is 5, dt is 4 and accuracy is 0.75 \n",
            "The weight of lr is 5, svm is 5, dt is 5 and accuracy is 0.75 \n",
            "The maximum score is 0.75\n"
          ]
        }
      ]
    },
    {
      "cell_type": "markdown",
      "source": [
        "## Classifiers of Logistic regression"
      ],
      "metadata": {
        "id": "fDL84xNc4fRj"
      }
    },
    {
      "cell_type": "code",
      "source": [
        "# define different LR models\n",
        "\n",
        "lr1 = LogisticRegression(C=0.001)\n",
        "lr2 = LogisticRegression(C=0.01)\n",
        "lr3 = LogisticRegression(C=0.1)\n",
        "lr4 = LogisticRegression(C=1)\n",
        "lr5 = LogisticRegression(C=10)\n",
        "lr6 = LogisticRegression(C=100)\n",
        "\n",
        "estimators = [('1',lr1),('2',lr2),('3',lr3),('4',lr4),('5',lr5),('6',lr6)]\n",
        "\n",
        "vc = VotingClassifier(estimators=estimators)\n",
        "score = cross_val_score(vc,X,y,cv=10,scoring='accuracy')\n",
        "print(f'The accuracy score for vc is', np.mean(score))"
      ],
      "metadata": {
        "colab": {
          "base_uri": "https://localhost:8080/"
        },
        "id": "DS4Ym5zK5Nkx",
        "outputId": "b6fcdcd9-9e89-4c0c-db09-19913fd2c254"
      },
      "execution_count": 21,
      "outputs": [
        {
          "output_type": "stream",
          "name": "stdout",
          "text": [
            "The accuracy score for vc is 0.75\n"
          ]
        }
      ]
    },
    {
      "cell_type": "markdown",
      "source": [
        "No change in the final accuracy of the model"
      ],
      "metadata": {
        "id": "IeX9Ort36AHF"
      }
    },
    {
      "cell_type": "code",
      "source": [
        "# Define different models for svm\n",
        "\n",
        "svm1 = SVC(kernel='poly',degree=1,probability=True)\n",
        "svm2 = SVC(kernel='poly',degree=2,probability=True)\n",
        "svm3 = SVC(kernel='poly',degree=3,probability=True)\n",
        "svm4 = SVC(kernel='poly',degree=4,probability=True)\n",
        "svm5 = SVC(kernel='poly',degree=5,probability=True)\n",
        "svm6 = SVC(kernel='poly',degree=6,probability=True)\n",
        "\n",
        "estimators = [('1',svm1),('2',svm2),('3',svm3),('4',svm4),('5',svm5),('6',svm6)]\n",
        "\n",
        "vc = VotingClassifier(estimators=estimators)\n",
        "score = cross_val_score(vc,X,y,cv=10,scoring='accuracy')\n",
        "print(f'The accuracy score for vc is', np.mean(score))"
      ],
      "metadata": {
        "colab": {
          "base_uri": "https://localhost:8080/"
        },
        "id": "WPbf8Qjs6rGm",
        "outputId": "63d8454e-4c83-4cc9-e8a5-62dabb2d7728"
      },
      "execution_count": 22,
      "outputs": [
        {
          "output_type": "stream",
          "name": "stdout",
          "text": [
            "The accuracy score for vc is 0.6900000000000002\n"
          ]
        }
      ]
    },
    {
      "cell_type": "code",
      "source": [],
      "metadata": {
        "id": "KraYbvW37Zm5"
      },
      "execution_count": 22,
      "outputs": []
    }
  ]
}