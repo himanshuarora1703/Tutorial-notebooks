{
  "nbformat": 4,
  "nbformat_minor": 0,
  "metadata": {
    "colab": {
      "provenance": [],
      "authorship_tag": "ABX9TyOF+4dIeyho5SHU4Bytwqco",
      "include_colab_link": true
    },
    "kernelspec": {
      "name": "python3",
      "display_name": "Python 3"
    },
    "language_info": {
      "name": "python"
    },
    "widgets": {
      "application/vnd.jupyter.widget-state+json": {
        "ba9cbc0247fe435b8a4545b7b015757d": {
          "model_module": "@jupyter-widgets/controls",
          "model_name": "VBoxModel",
          "model_module_version": "1.5.0",
          "state": {
            "_dom_classes": [
              "widget-interact"
            ],
            "_model_module": "@jupyter-widgets/controls",
            "_model_module_version": "1.5.0",
            "_model_name": "VBoxModel",
            "_view_count": null,
            "_view_module": "@jupyter-widgets/controls",
            "_view_module_version": "1.5.0",
            "_view_name": "VBoxView",
            "box_style": "",
            "children": [
              "IPY_MODEL_eb819f24808a407cafbc1c1e6b9070d4",
              "IPY_MODEL_7115144f1e1b477a81427180c7d7b1e4"
            ],
            "layout": "IPY_MODEL_e0bd4c2e883843dab99f0041b28154d0"
          }
        },
        "eb819f24808a407cafbc1c1e6b9070d4": {
          "model_module": "@jupyter-widgets/controls",
          "model_name": "IntSliderModel",
          "model_module_version": "1.5.0",
          "state": {
            "_dom_classes": [],
            "_model_module": "@jupyter-widgets/controls",
            "_model_module_version": "1.5.0",
            "_model_name": "IntSliderModel",
            "_view_count": null,
            "_view_module": "@jupyter-widgets/controls",
            "_view_module_version": "1.5.0",
            "_view_name": "IntSliderView",
            "continuous_update": true,
            "description": "ind",
            "description_tooltip": null,
            "disabled": false,
            "layout": "IPY_MODEL_02d3612098bf482f8439cd37f3572433",
            "max": 1000,
            "min": 0,
            "orientation": "horizontal",
            "readout": true,
            "readout_format": "d",
            "step": 1,
            "style": "IPY_MODEL_8c1d1af1bbf74e9d8d023d59e654a8f7",
            "value": 191
          }
        },
        "7115144f1e1b477a81427180c7d7b1e4": {
          "model_module": "@jupyter-widgets/output",
          "model_name": "OutputModel",
          "model_module_version": "1.0.0",
          "state": {
            "_dom_classes": [],
            "_model_module": "@jupyter-widgets/output",
            "_model_module_version": "1.0.0",
            "_model_name": "OutputModel",
            "_view_count": null,
            "_view_module": "@jupyter-widgets/output",
            "_view_module_version": "1.0.0",
            "_view_name": "OutputView",
            "layout": "IPY_MODEL_06d129cb9581423cae87b41ca0bad7da",
            "msg_id": "",
            "outputs": [
              {
                "output_type": "display_data",
                "data": {
                  "text/plain": "<Figure size 432x288 with 1 Axes>",
                  "image/png": "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\n"
                },
                "metadata": {
                  "needs_background": "light"
                }
              }
            ]
          }
        },
        "e0bd4c2e883843dab99f0041b28154d0": {
          "model_module": "@jupyter-widgets/base",
          "model_name": "LayoutModel",
          "model_module_version": "1.2.0",
          "state": {
            "_model_module": "@jupyter-widgets/base",
            "_model_module_version": "1.2.0",
            "_model_name": "LayoutModel",
            "_view_count": null,
            "_view_module": "@jupyter-widgets/base",
            "_view_module_version": "1.2.0",
            "_view_name": "LayoutView",
            "align_content": null,
            "align_items": null,
            "align_self": null,
            "border": null,
            "bottom": null,
            "display": null,
            "flex": null,
            "flex_flow": null,
            "grid_area": null,
            "grid_auto_columns": null,
            "grid_auto_flow": null,
            "grid_auto_rows": null,
            "grid_column": null,
            "grid_gap": null,
            "grid_row": null,
            "grid_template_areas": null,
            "grid_template_columns": null,
            "grid_template_rows": null,
            "height": null,
            "justify_content": null,
            "justify_items": null,
            "left": null,
            "margin": null,
            "max_height": null,
            "max_width": null,
            "min_height": null,
            "min_width": null,
            "object_fit": null,
            "object_position": null,
            "order": null,
            "overflow": null,
            "overflow_x": null,
            "overflow_y": null,
            "padding": null,
            "right": null,
            "top": null,
            "visibility": null,
            "width": null
          }
        },
        "02d3612098bf482f8439cd37f3572433": {
          "model_module": "@jupyter-widgets/base",
          "model_name": "LayoutModel",
          "model_module_version": "1.2.0",
          "state": {
            "_model_module": "@jupyter-widgets/base",
            "_model_module_version": "1.2.0",
            "_model_name": "LayoutModel",
            "_view_count": null,
            "_view_module": "@jupyter-widgets/base",
            "_view_module_version": "1.2.0",
            "_view_name": "LayoutView",
            "align_content": null,
            "align_items": null,
            "align_self": null,
            "border": null,
            "bottom": null,
            "display": null,
            "flex": null,
            "flex_flow": null,
            "grid_area": null,
            "grid_auto_columns": null,
            "grid_auto_flow": null,
            "grid_auto_rows": null,
            "grid_column": null,
            "grid_gap": null,
            "grid_row": null,
            "grid_template_areas": null,
            "grid_template_columns": null,
            "grid_template_rows": null,
            "height": null,
            "justify_content": null,
            "justify_items": null,
            "left": null,
            "margin": null,
            "max_height": null,
            "max_width": null,
            "min_height": null,
            "min_width": null,
            "object_fit": null,
            "object_position": null,
            "order": null,
            "overflow": null,
            "overflow_x": null,
            "overflow_y": null,
            "padding": null,
            "right": null,
            "top": null,
            "visibility": null,
            "width": null
          }
        },
        "8c1d1af1bbf74e9d8d023d59e654a8f7": {
          "model_module": "@jupyter-widgets/controls",
          "model_name": "SliderStyleModel",
          "model_module_version": "1.5.0",
          "state": {
            "_model_module": "@jupyter-widgets/controls",
            "_model_module_version": "1.5.0",
            "_model_name": "SliderStyleModel",
            "_view_count": null,
            "_view_module": "@jupyter-widgets/base",
            "_view_module_version": "1.2.0",
            "_view_name": "StyleView",
            "description_width": "",
            "handle_color": null
          }
        },
        "06d129cb9581423cae87b41ca0bad7da": {
          "model_module": "@jupyter-widgets/base",
          "model_name": "LayoutModel",
          "model_module_version": "1.2.0",
          "state": {
            "_model_module": "@jupyter-widgets/base",
            "_model_module_version": "1.2.0",
            "_model_name": "LayoutModel",
            "_view_count": null,
            "_view_module": "@jupyter-widgets/base",
            "_view_module_version": "1.2.0",
            "_view_name": "LayoutView",
            "align_content": null,
            "align_items": null,
            "align_self": null,
            "border": null,
            "bottom": null,
            "display": null,
            "flex": null,
            "flex_flow": null,
            "grid_area": null,
            "grid_auto_columns": null,
            "grid_auto_flow": null,
            "grid_auto_rows": null,
            "grid_column": null,
            "grid_gap": null,
            "grid_row": null,
            "grid_template_areas": null,
            "grid_template_columns": null,
            "grid_template_rows": null,
            "height": null,
            "justify_content": null,
            "justify_items": null,
            "left": null,
            "margin": null,
            "max_height": null,
            "max_width": null,
            "min_height": null,
            "min_width": null,
            "object_fit": null,
            "object_position": null,
            "order": null,
            "overflow": null,
            "overflow_x": null,
            "overflow_y": null,
            "padding": null,
            "right": null,
            "top": null,
            "visibility": null,
            "width": null
          }
        }
      }
    }
  },
  "cells": [
    {
      "cell_type": "markdown",
      "metadata": {
        "id": "view-in-github",
        "colab_type": "text"
      },
      "source": [
        "<a href=\"https://colab.research.google.com/github/himanshuarora1703/Tutorial-notebooks/blob/main/Logistic%20Regression/Logistic_regression_perceptron.ipynb\" target=\"_parent\"><img src=\"https://colab.research.google.com/assets/colab-badge.svg\" alt=\"Open In Colab\"/></a>"
      ]
    },
    {
      "cell_type": "code",
      "execution_count": 1,
      "metadata": {
        "id": "FGmE3KwVVwKP"
      },
      "outputs": [],
      "source": [
        "import pandas as pd\n",
        "import numpy as np\n",
        "from sklearn.datasets import make_classification\n",
        "import matplotlib.pyplot as plt"
      ]
    },
    {
      "cell_type": "code",
      "source": [
        "# make dataset\n",
        "\n",
        "X, y = make_classification(n_samples=100, n_features=2, n_informative=1,n_redundant=0,\n",
        "                           n_classes=2, n_clusters_per_class=1, random_state=41,hypercube=False,class_sep=10)"
      ],
      "metadata": {
        "id": "wFKONCMaXZ2o"
      },
      "execution_count": 2,
      "outputs": []
    },
    {
      "cell_type": "markdown",
      "source": [
        "Logistic reression works good in linealy separable data."
      ],
      "metadata": {
        "id": "fmVpkppkZItd"
      }
    },
    {
      "cell_type": "code",
      "source": [
        "X[0:5]"
      ],
      "metadata": {
        "colab": {
          "base_uri": "https://localhost:8080/"
        },
        "id": "SBtD4iI0abch",
        "outputId": "fce5217a-d0c8-47a1-db23-6b1933b9f9c3"
      },
      "execution_count": 3,
      "outputs": [
        {
          "output_type": "execute_result",
          "data": {
            "text/plain": [
              "array([[ 0.19924745, -0.11697552],\n",
              "       [-0.24882029, -0.73115232],\n",
              "       [-0.3544904 , -0.7081059 ],\n",
              "       [-1.59086506, -2.01199214],\n",
              "       [-0.20083951,  1.63493163]])"
            ]
          },
          "metadata": {},
          "execution_count": 3
        }
      ]
    },
    {
      "cell_type": "code",
      "source": [
        "# plot the data\n",
        "\n",
        "plt.scatter(X[:,0],X[:,1],c=y)\n",
        "plt.show()"
      ],
      "metadata": {
        "colab": {
          "base_uri": "https://localhost:8080/",
          "height": 265
        },
        "id": "bRsHRuNoX1nc",
        "outputId": "7719e678-dc18-4815-9fd4-da3e2e0c38aa"
      },
      "execution_count": 4,
      "outputs": [
        {
          "output_type": "display_data",
          "data": {
            "text/plain": [
              "<Figure size 432x288 with 1 Axes>"
            ],
            "image/png": "[encoded data removed]"
          },
          "metadata": {
            "needs_background": "light"
          }
        }
      ]
    },
    {
      "cell_type": "code",
      "source": [
        "# create weights for the data columns\n",
        "\n",
        "def create_weights(X):\n",
        "    weights = np.ones(shape=(X.shape[1]))\n",
        "    return weights"
      ],
      "metadata": {
        "id": "AxEAi4dVYHtf"
      },
      "execution_count": 5,
      "outputs": []
    },
    {
      "cell_type": "code",
      "source": [
        "# create a step function\n",
        "\n",
        "def step(z):\n",
        "    return 1 if z > 0 else 0"
      ],
      "metadata": {
        "id": "hzwc5HBuZdj6"
      },
      "execution_count": 6,
      "outputs": []
    },
    {
      "cell_type": "code",
      "source": [
        "def create_bias(X):\n",
        "    bias = np.ones(shape=(X.shape[0],1))\n",
        "    return np.hstack((bias,X))"
      ],
      "metadata": {
        "id": "xE_lvki3cmXH"
      },
      "execution_count": 7,
      "outputs": []
    },
    {
      "cell_type": "code",
      "source": [
        "X.shape"
      ],
      "metadata": {
        "colab": {
          "base_uri": "https://localhost:8080/"
        },
        "id": "pSnFrPjmcNW_",
        "outputId": "62bb80bd-868a-48c0-8f75-4ce316efae4d"
      },
      "execution_count": 8,
      "outputs": [
        {
          "output_type": "execute_result",
          "data": {
            "text/plain": [
              "(100, 2)"
            ]
          },
          "metadata": {},
          "execution_count": 8
        }
      ]
    },
    {
      "cell_type": "code",
      "source": [
        "X[12]"
      ],
      "metadata": {
        "colab": {
          "base_uri": "https://localhost:8080/"
        },
        "id": "c58KW5w6cFl8",
        "outputId": "b5a77056-d748-49df-ede0-c7b870d69362"
      },
      "execution_count": 9,
      "outputs": [
        {
          "output_type": "execute_result",
          "data": {
            "text/plain": [
              "array([-0.02194151, -2.98092432])"
            ]
          },
          "metadata": {},
          "execution_count": 9
        }
      ]
    },
    {
      "cell_type": "code",
      "source": [
        "y[12]"
      ],
      "metadata": {
        "colab": {
          "base_uri": "https://localhost:8080/"
        },
        "id": "q_55TRvlcV6g",
        "outputId": "1bd2134a-2a4a-4199-d57e-631b2a4ef9dd"
      },
      "execution_count": 10,
      "outputs": [
        {
          "output_type": "execute_result",
          "data": {
            "text/plain": [
              "1"
            ]
          },
          "metadata": {},
          "execution_count": 10
        }
      ]
    },
    {
      "cell_type": "code",
      "source": [
        "def perceptron(X,y,epochs,lr):\n",
        "    \n",
        "    X = create_bias(X)\n",
        "    weights = create_weights(X)\n",
        "\n",
        "    for i in range(epochs):\n",
        "        ind = np.random.randint(0,X.shape[0])\n",
        "        input_arr = X[ind,:]\n",
        "        true_y = y[ind]\n",
        "        y_pred = step(np.dot(input_arr,weights))\n",
        "\n",
        "        weights = weights + (lr * (true_y-y_pred) * input_arr)\n",
        "\n",
        "\n",
        "    return weights[0],weights[1:]"
      ],
      "metadata": {
        "id": "aEXbx095Zysq"
      },
      "execution_count": 11,
      "outputs": []
    },
    {
      "cell_type": "code",
      "source": [
        "bias,weights = perceptron(X,y,1000,0.1)"
      ],
      "metadata": {
        "id": "oQB_jtiVZ0b-"
      },
      "execution_count": 12,
      "outputs": []
    },
    {
      "cell_type": "code",
      "source": [
        "print(bias)\n",
        "print(weights)"
      ],
      "metadata": {
        "colab": {
          "base_uri": "https://localhost:8080/"
        },
        "id": "B5Brs6vbbw9u",
        "outputId": "3c984aea-8926-47d0-ef86-e8e0601f9195"
      },
      "execution_count": 13,
      "outputs": [
        {
          "output_type": "stream",
          "name": "stdout",
          "text": [
            "0.9\n",
            "[1.31909272 0.06334186]\n"
          ]
        }
      ]
    },
    {
      "cell_type": "code",
      "source": [
        "coef = -(weights[0] / weights[1])\n",
        "\n",
        "intercept = -(bias / weights[1])"
      ],
      "metadata": {
        "id": "w35inuXoe5lh"
      },
      "execution_count": 14,
      "outputs": []
    },
    {
      "cell_type": "code",
      "source": [
        "coef"
      ],
      "metadata": {
        "colab": {
          "base_uri": "https://localhost:8080/"
        },
        "id": "6UZSVH7jiUmu",
        "outputId": "be66b810-f056-4c71-a90f-88d4163541ab"
      },
      "execution_count": 15,
      "outputs": [
        {
          "output_type": "execute_result",
          "data": {
            "text/plain": [
              "-20.82497617974303"
            ]
          },
          "metadata": {},
          "execution_count": 15
        }
      ]
    },
    {
      "cell_type": "code",
      "source": [
        "intercept"
      ],
      "metadata": {
        "colab": {
          "base_uri": "https://localhost:8080/"
        },
        "id": "tgIf4HhwiVJS",
        "outputId": "661d5dd2-6a19-4ef3-89e6-04b69bb741b8"
      },
      "execution_count": 16,
      "outputs": [
        {
          "output_type": "execute_result",
          "data": {
            "text/plain": [
              "-14.208613454071727"
            ]
          },
          "metadata": {},
          "execution_count": 16
        }
      ]
    },
    {
      "cell_type": "code",
      "source": [
        "# plot the line on the graph\n",
        "\n",
        "# line = mx + c\n",
        "x_input = np.linspace(-5.5,0.5,100)\n",
        "line = (coef * x_input) + intercept"
      ],
      "metadata": {
        "id": "q-4MqfOBiWZ-"
      },
      "execution_count": 17,
      "outputs": []
    },
    {
      "cell_type": "code",
      "source": [
        "# plotting\n",
        "\n",
        "plt.scatter(X[:,0],X[:,1],c=y)\n",
        "plt.plot(x_input,line)\n",
        "plt.xlim(-2.5,2.5)\n",
        "plt.ylim(-4,3.5)\n",
        "plt.show()"
      ],
      "metadata": {
        "colab": {
          "base_uri": "https://localhost:8080/",
          "height": 265
        },
        "id": "IcVcZlpGjCQd",
        "outputId": "1b0fa3e1-1129-49f9-ed05-47e0f4496895"
      },
      "execution_count": null,
      "outputs": [
        {
          "output_type": "display_data",
          "data": {
            "text/plain": [
              "<Figure size 432x288 with 1 Axes>"
            ],
            "image/png": "[encoded data removed]"
          },
          "metadata": {
            "needs_background": "light"
          }
        }
      ]
    },
    {
      "cell_type": "code",
      "source": [
        "# animate the process\n",
        "def perceptron_animated(epochs=1000,lr=0.01,X=X,y=y):\n",
        "    coef_list =[]\n",
        "    inter_list = []\n",
        "    X_new = create_bias(X)\n",
        "    weights = create_weights(X_new)\n",
        "    \n",
        "    for i in range(epochs):\n",
        "        ind = np.random.randint(0,X_new.shape[0])\n",
        "        input_arr = X_new[ind,:]\n",
        "        true_y = y[ind]\n",
        "        y_pred = step(np.dot(input_arr,weights))\n",
        "\n",
        "        weights = weights + (lr * (true_y-y_pred) * input_arr)\n",
        "\n",
        "        coef = -(weights[0] / weights[2])\n",
        "        inter = -(weights[1] / weights[2])\n",
        "        coef_list.append(coef)\n",
        "        inter_list.append(inter)\n",
        "    return coef_list,inter_list"
      ],
      "metadata": {
        "id": "_QHonqopjW2v"
      },
      "execution_count": 18,
      "outputs": []
    },
    {
      "cell_type": "code",
      "source": [
        "coef,inter = perceptron_animated()"
      ],
      "metadata": {
        "id": "g1g5jgQRp_Us"
      },
      "execution_count": 19,
      "outputs": []
    },
    {
      "cell_type": "code",
      "source": [
        "coef[0]"
      ],
      "metadata": {
        "colab": {
          "base_uri": "https://localhost:8080/"
        },
        "id": "hYT5YJzbQHhv",
        "outputId": "be7a3490-3872-4d64-ec5a-497bf2db4079"
      },
      "execution_count": 39,
      "outputs": [
        {
          "output_type": "execute_result",
          "data": {
            "text/plain": [
              "-1.0"
            ]
          },
          "metadata": {},
          "execution_count": 39
        }
      ]
    },
    {
      "cell_type": "code",
      "source": [
        "import ipywidgets as widgets"
      ],
      "metadata": {
        "id": "2O_OGKtHns7G"
      },
      "execution_count": 20,
      "outputs": []
    },
    {
      "cell_type": "code",
      "source": [
        "def plot_line(ind=0):\n",
        "    x = np.arange(-3,3,50)\n",
        "    line = (coef[ind] * x) + inter[ind] \n",
        "    plt.scatter(X[:,0],X[:,1],c=y)\n",
        "    plt.plot(x,line,color='red')\n",
        "    plt.title(f'The epoch is {ind}')\n",
        "    plt.show()"
      ],
      "metadata": {
        "id": "leYY6cNDqlfB"
      },
      "execution_count": 46,
      "outputs": []
    },
    {
      "cell_type": "code",
      "source": [
        "# plot the animated graph\n",
        "animated = widgets.Play(min=0,max=1000)\n",
        "\n",
        "widgets.interact(plot_line,ind=(0,1000,1))"
      ],
      "metadata": {
        "colab": {
          "base_uri": "https://localhost:8080/",
          "height": 331,
          "referenced_widgets": [
            "ba9cbc0247fe435b8a4545b7b015757d",
            "eb819f24808a407cafbc1c1e6b9070d4",
            "7115144f1e1b477a81427180c7d7b1e4",
            "e0bd4c2e883843dab99f0041b28154d0",
            "02d3612098bf482f8439cd37f3572433",
            "8c1d1af1bbf74e9d8d023d59e654a8f7",
            "06d129cb9581423cae87b41ca0bad7da"
          ]
        },
        "id": "C0PlxYOQonU1",
        "outputId": "e8039ce3-1646-4e17-b0dc-30e48a401e12"
      },
      "execution_count": 47,
      "outputs": [
        {
          "output_type": "display_data",
          "data": {
            "text/plain": [
              "interactive(children=(IntSlider(value=0, description='ind', max=1000), Output()), _dom_classes=('widget-intera…"
            ],
            "application/vnd.jupyter.widget-view+json": {
              "version_major": 2,
              "version_minor": 0,
              "model_id": "ba9cbc0247fe435b8a4545b7b015757d"
            }
          },
          "metadata": {}
        },
        {
          "output_type": "execute_result",
          "data": {
            "text/plain": [
              "<function __main__.plot_line(ind=0)>"
            ]
          },
          "metadata": {},
          "execution_count": 47
        }
      ]
    },
    {
      "cell_type": "code",
      "source": [],
      "metadata": {
        "id": "u-WRdFHaouSN"
      },
      "execution_count": null,
      "outputs": []
    }
  ]
}